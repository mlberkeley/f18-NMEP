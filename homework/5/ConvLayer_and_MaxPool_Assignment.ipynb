{
 "cells": [
  {
   "cell_type": "markdown",
   "metadata": {},
   "source": [
    "## Convolutional and Max Pooling Layers\n",
    "\n",
    "In order to get a better understanding of convolutional and max pooling layers, in this part of the homework, you will implement these two layers from scratch! No TensorFlow allowed! Fill out the two python functions below and then run the `assert` statements in order to check that your code works :)\n",
    "\n",
    "Homework idea based off of CS231N (http://cs231n.github.io/assignments2018/assignment2/)\n",
    "\n",
    "In this homework, you are only allowed to use the `numpy` package."
   ]
  },
  {
   "cell_type": "code",
   "execution_count": 2,
   "metadata": {
    "collapsed": true
   },
   "outputs": [],
   "source": [
    "import numpy as np"
   ]
  },
  {
   "cell_type": "markdown",
   "metadata": {},
   "source": [
    "![ConvURL](https://raw.githubusercontent.com/iamaaditya/iamaaditya.github.io/master/images/conv_arithmetic/full_padding_no_strides_transposed.gif \"conv\")\n",
    "\n",
    "Recall the convolution layer. In this gif, we slide a 3 x 3 (dark blue) filter along the input image (light blue) in order to produce the (green) output image. There is no padding, and the stride is 1. Recall to produce a green value, we dot a portion of the input image with the filter weights and add the bias ($Wx + b$)."
   ]
  },
  {
   "cell_type": "markdown",
   "metadata": {},
   "source": [
    "### 1. Convolutional Layer\n",
    "\n",
    "Implement `conv_forward_naive`, which takes in the input data, the weight matrix, the bias vector, and parameters about this convolutional layer.\n",
    "\n",
    "Hint: It may be a good idea to extract out N, C, H, W, F, etc. into variables for easier use.\n",
    "\n",
    "Hint2: How many `for` loops do you need?\n"
   ]
  },
  {
   "cell_type": "code",
   "execution_count": 1,
   "metadata": {
    "collapsed": true
   },
   "outputs": [],
   "source": [
    "def conv_forward_naive(x, w, b, conv_param):\n",
    "    \"\"\"\n",
    "    A naive implementation of the forward pass for a convolutional layer.\n",
    "\n",
    "    The input consists of N data points, each with C channels, height H and\n",
    "    width W. We convolve each input with F different filters, where each filter\n",
    "    spans all C channels and has height HH and width WW.\n",
    "\n",
    "    Input:\n",
    "    - x: Input data of shape (N, C, H, W)\n",
    "    - w: Filter weights of shape (F, C, HH, WW)\n",
    "    - b: Biases, of shape (F,)\n",
    "    - conv_param: A dictionary with the following keys:\n",
    "      - 'stride': The number of pixels between adjacent receptive fields in the\n",
    "        horizontal and vertical directions.\n",
    "      - 'pad': The number of pixels that will be used to zero-pad the input.\n",
    "\n",
    "    Returns:\n",
    "    - out: Output data, of shape (N, F, H', W') where H' and W' are given by\n",
    "      H' = 1 + (H + 2 * pad - HH) / stride\n",
    "      W' = 1 + (W + 2 * pad - WW) / stride\n",
    "    \"\"\"\n",
    "    out = None\n",
    "    ###########################################################################\n",
    "    # TODO: Implement the convolutional forward pass.                         #\n",
    "    # Hint: you can use the function np.pad for padding.                      #\n",
    "    ###########################################################################\n",
    "   \n",
    "    ###########################################################################\n",
    "    #                             END OF YOUR CODE                            #\n",
    "    ###########################################################################\n",
    "    return out"
   ]
  },
  {
   "cell_type": "markdown",
   "metadata": {},
   "source": [
    "### 2. Max Pooling Layer\n",
    "\n",
    "Implement this max pooling layer python function.\n",
    "\n",
    "Hint: This should be pretty similar to the convolution layer above.\n",
    "\n",
    "Hint2: It will be useful to calculate what the expected output dimensions will be. If you need help with this, feel free to chat a friend in the NMEP program or a person on the Memdev committee!"
   ]
  },
  {
   "cell_type": "code",
   "execution_count": 2,
   "metadata": {
    "collapsed": true
   },
   "outputs": [],
   "source": [
    "def max_pool_forward_naive(x, pool_param):\n",
    "    \"\"\"\n",
    "    A naive implementation of the forward pass for a max pooling layer.\n",
    "\n",
    "    Inputs:\n",
    "    - x: Input data, of shape (N, C, H, W)\n",
    "    - pool_param: dictionary with the following keys:\n",
    "      - 'pool_height': The height of each pooling region\n",
    "      - 'pool_width': The width of each pooling region\n",
    "      - 'stride': The distance between adjacent pooling regions\n",
    "\n",
    "    Returns:\n",
    "    - out: Output data\n",
    "    \"\"\"\n",
    "    out = None\n",
    "    ###########################################################################\n",
    "    # TODO: Implement the max pooling forward pass                            #\n",
    "    ###########################################################################\n",
    "   \n",
    "\n",
    "    ###########################################################################\n",
    "    #                             END OF YOUR CODE                            #\n",
    "    ###########################################################################\n",
    "    return out"
   ]
  },
  {
   "cell_type": "markdown",
   "metadata": {},
   "source": [
    "## 3. Check your answers!\n",
    "\n",
    "If your code passes these assert statements, you should be good to go!"
   ]
  },
  {
   "cell_type": "code",
   "execution_count": 52,
   "metadata": {
    "collapsed": true
   },
   "outputs": [],
   "source": [
    "### TESTING OF CONV LAYER\n",
    "\n",
    "np.random.seed(42)\n",
    "x = np.random.normal(size=[1, 3, 11, 11])\n",
    "w = np.random.normal(size=[2, 3, 5, 5])\n",
    "b = np.random.normal(size=[2])\n",
    "conv_param = {'stride': 3, 'pad': 3}\n",
    "result = conv_forward_naive(x, w, b, conv_param)\n",
    "assert np.allclose(result, np.array([[[[-64.02188076, -72.4872233 , -68.87431456, -70.37974438,\n",
    "          -63.88532456],\n",
    "         [-70.55938288, -64.7656663 , -71.37237659, -62.35421717,\n",
    "          -68.56807668],\n",
    "         [-67.83005728, -74.69936   , -75.27070807, -73.40665528,\n",
    "          -68.98461316],\n",
    "         [-66.40527236, -72.08694693, -64.09722886, -69.53827204,\n",
    "          -58.29051507],\n",
    "         [-74.50276516, -63.97297641, -60.8207675 , -68.88692014,\n",
    "          -66.38502603]],\n",
    "\n",
    "        [[-45.29949464, -39.35672909, -43.61839396, -39.40630139,\n",
    "          -42.04224904],\n",
    "         [-49.17681264, -43.01362488, -41.74165318, -27.17904575,\n",
    "          -46.59086736],\n",
    "         [-35.92542915, -46.24948397, -38.40519359, -30.39266786,\n",
    "          -49.18138589],\n",
    "         [-42.08922999, -40.19475522, -37.69104486, -36.98034819,\n",
    "          -45.06957326],\n",
    "         [-46.66550951, -41.38557502, -46.15029959, -45.41905711,\n",
    "          -43.73785045]]]]))"
   ]
  },
  {
   "cell_type": "code",
   "execution_count": 65,
   "metadata": {
    "collapsed": true
   },
   "outputs": [],
   "source": [
    "### TESTING OF MAX POOL LAYER\n",
    "np.random.seed(45)\n",
    "x = np.random.normal(size=(1, 3, 8, 8))\n",
    "pool_param = {'pool_height': 5, 'pool_width': 5, 'stride': 3}\n",
    "result = max_pool_forward_naive(x, pool_param)\n",
    "\n",
    "assert np.allclose(result, np.array([[[[ 2.24808957,  2.24808957],\n",
    "         [ 2.24808957,  2.24808957]],\n",
    "\n",
    "        [[ 1.21650079,  1.81659525],\n",
    "         [ 2.44659327,  1.76020474]],\n",
    "\n",
    "        [[ 2.99363398,  1.62741182],\n",
    "         [ 1.67882964,  1.67882964]]]]) )"
   ]
  }
 ],
 "metadata": {
  "kernelspec": {
   "display_name": "Python 3",
   "language": "python",
   "name": "python3"
  },
  "language_info": {
   "codemirror_mode": {
    "name": "ipython",
    "version": 3
   },
   "file_extension": ".py",
   "mimetype": "text/x-python",
   "name": "python",
   "nbconvert_exporter": "python",
   "pygments_lexer": "ipython3",
   "version": "3.5.2"
  }
 },
 "nbformat": 4,
 "nbformat_minor": 2
}
