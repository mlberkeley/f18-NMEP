{
 "cells": [
  {
   "cell_type": "code",
   "execution_count": 1,
   "metadata": {
    "collapsed": true
   },
   "outputs": [],
   "source": [
    "import tensorflow as tf\n",
    "import numpy as np\n",
    "import matplotlib.pyplot as plt"
   ]
  },
  {
   "cell_type": "markdown",
   "metadata": {},
   "source": [
    "# Denoising Autoencoder\n",
    "In this lab, you will be applying a noise filter to MNIST images and using a denoising autoencoder to reconstruct the original image."
   ]
  },
  {
   "cell_type": "code",
   "execution_count": 2,
   "metadata": {
    "collapsed": true
   },
   "outputs": [],
   "source": [
    "def masking_noise(X, v):\n",
    "    \"\"\" Apply masking noise to data in X, in other words a fraction v of elements of X\n",
    "    (chosen at random) is forced to zero.\"\"\"\n",
    "    \n",
    "    X_noise = X.copy()\n",
    "\n",
    "    n_samples = X.shape[0]\n",
    "    n_features = X.shape[1]\n",
    "\n",
    "    for i in range(n_samples):\n",
    "        mask = np.random.choice(range(n_features), int(v*n_features), replace=False)\n",
    "        for m in mask:\n",
    "            X_noise[i][m] = 0.\n",
    "    return X_noise"
   ]
  },
  {
   "cell_type": "markdown",
   "metadata": {},
   "source": [
    "<img src=\"files/ae_diagram.png\">"
   ]
  },
  {
   "cell_type": "markdown",
   "metadata": {},
   "source": [
    "# Network parameters and Hyperparameters"
   ]
  },
  {
   "cell_type": "code",
   "execution_count": 3,
   "metadata": {
    "collapsed": true
   },
   "outputs": [],
   "source": [
    "# Parameters\n",
    "learning_rate = 0.01\n",
    "training_epochs = 10\n",
    "batch_size = 256\n",
    "\n",
    "# Network Parameters\n",
    "n_hidden_1 = 256 # 1st layer num features\n",
    "n_hidden_2 = 128 # 2nd layer num features\n",
    "n_input = 784 # MNIST data input (img shape: 28*28)"
   ]
  },
  {
   "cell_type": "markdown",
   "metadata": {},
   "source": [
    "Create a placeholder value for the input images after they are flattened to an array of dimension 784."
   ]
  },
  {
   "cell_type": "code",
   "execution_count": 4,
   "metadata": {
    "collapsed": true
   },
   "outputs": [],
   "source": [
    "#TODO: Fill in the dots\n",
    "\n",
    "X = tf.placeholder(...)\n",
    "X_noise = tf.placeholder(...)"
   ]
  },
  {
   "cell_type": "markdown",
   "metadata": {},
   "source": [
    "Fill in the weights and biases dictionary for all the layers.\n",
    "\n",
    "Fill in the encoder and decoder functions:\n",
    "* The encoder function takes in a noisy image and returns a 128 dimensional tensor (the middle layer)\n",
    "* The decoder function takes in the middle layer of the network and outputs the restored image"
   ]
  },
  {
   "cell_type": "code",
   "execution_count": 5,
   "metadata": {
    "collapsed": true
   },
   "outputs": [],
   "source": [
    "#TODO: Fill in the dots\n",
    "\n",
    "weights = {\n",
    "    'encoder_w1': tf.Variable(tf.truncated_normal([..., ...], stddev=0.1)),\n",
    "    'encoder_w2': tf.Variable(tf.truncated_normal([..., ...], stddev=0.1)),\n",
    "    'decoder_w1': tf.Variable(tf.truncated_normal([..., ...], stddev=0.1)),\n",
    "    'decoder_w2': tf.Variable(tf.truncated_normal([..., ...], stddev=0.1))\n",
    "}\n",
    "\n",
    "bias = {\n",
    "    \"encoder_b1\": tf.Variable(tf.truncated_normal([...], stddev=0.1)),\n",
    "    \"encoder_b2\": tf.Variable(tf.truncated_normal([...], stddev=0.1)),\n",
    "    \"decoder_b1\": tf.Variable(tf.truncated_normal([...], stddev=0.1)),\n",
    "    \"decoder_b2\": tf.Variable(tf.truncated_normal([...], stddev=0.1))\n",
    "}\n",
    "\n",
    "def encoder(X):\n",
    "    layer1 = tf.nn.sigmoid(tf.matmul(...)+bias[...])\n",
    "    layer2 = tf.nn.sigmoid(tf.matmul(...)+bias[...])\n",
    "    return layer2\n",
    "    \n",
    "def decoder(x):\n",
    "    layer1 = tf.nn.sigmoid(tf.matmul(...)+bias[...])\n",
    "    layer2 = tf.nn.sigmoid(tf.matmul(...)+bias[...])\n",
    "    return layer2"
   ]
  },
  {
   "cell_type": "markdown",
   "metadata": {},
   "source": [
    "Create the encoder and decoder layers using the functions above."
   ]
  },
  {
   "cell_type": "code",
   "execution_count": 6,
   "metadata": {
    "collapsed": true
   },
   "outputs": [],
   "source": [
    "#TODO: Fill in the dots\n",
    "\n",
    "encoder_op = encoder(...)\n",
    "decoder_op = decoder(...)\n",
    "\n",
    "pred = decoder_op"
   ]
  },
  {
   "cell_type": "markdown",
   "metadata": {},
   "source": [
    "Calculate the entropy by taking the Log Loss and calculate the overall loss by taking the mean of the entropy. The predicted value of this network is the output of the decoder and the true value is the original MNIST image *before* the noise filter is added."
   ]
  },
  {
   "cell_type": "code",
   "execution_count": 7,
   "metadata": {
    "collapsed": true
   },
   "outputs": [],
   "source": [
    "#TODO: Fill in the dots\n",
    "\n",
    "entropy = tf.losses.log_loss(...)\n",
    "loss = tf.reduce_mean(entropy)"
   ]
  },
  {
   "cell_type": "markdown",
   "metadata": {},
   "source": [
    "Define the optimizer as the RMSPropOptimizer which minimizes the loss calculated above."
   ]
  },
  {
   "cell_type": "code",
   "execution_count": 8,
   "metadata": {
    "collapsed": true
   },
   "outputs": [],
   "source": [
    "#TODO: Fill in the dots\n",
    "\n",
    "optimizer = ..."
   ]
  },
  {
   "cell_type": "code",
   "execution_count": 9,
   "metadata": {},
   "outputs": [
    {
     "name": "stdout",
     "output_type": "stream",
     "text": [
      "Extracting ./data/mnist/train-images-idx3-ubyte.gz\n",
      "Extracting ./data/mnist/train-labels-idx1-ubyte.gz\n",
      "Extracting ./data/mnist/t10k-images-idx3-ubyte.gz\n",
      "Extracting ./data/mnist/t10k-labels-idx1-ubyte.gz\n"
     ]
    }
   ],
   "source": [
    "from tensorflow.examples.tutorials.mnist import input_data\n",
    "MNIST = input_data.read_data_sets(\"../data/mnist\", one_hot = True)"
   ]
  },
  {
   "cell_type": "markdown",
   "metadata": {},
   "source": [
    "Start an interactive session and initialize all the variables created above."
   ]
  },
  {
   "cell_type": "code",
   "execution_count": 10,
   "metadata": {
    "collapsed": true
   },
   "outputs": [],
   "source": [
    "#TODO: Fill in the dots\n",
    "sess = ...\n",
    "sess.run(...)"
   ]
  },
  {
   "cell_type": "markdown",
   "metadata": {},
   "source": [
    "For each training epoch, take a batch of the training examples, apply the noise filter to each image, and run the optimizer and loss. At the end of each epoch, print the loss and confirm it decreases with each epoch. "
   ]
  },
  {
   "cell_type": "code",
   "execution_count": null,
   "metadata": {
    "collapsed": true
   },
   "outputs": [],
   "source": [
    "#TODO: Fill in the dots\n",
    "\n",
    "num_batches = int(MNIST.train.num_examples/batch_size)\n",
    "\n",
    "for epoch in range(training_epochs):\n",
    "    total_loss = 0\n",
    "    for batch in range(num_batches):\n",
    "        x, _ = MNIST.train.next_batch(batch_size)\n",
    "        x_noise = masking_noise(x, 0.5)\n",
    "        _, l = sess.run(...)\n",
    "        total_loss += l\n",
    "    print(\"Epoch {0}: {1}\".format(epoch, total_loss))"
   ]
  },
  {
   "cell_type": "markdown",
   "metadata": {},
   "source": [
    "Use the code below to plot the original image, the noisy image, and the reconstructed image."
   ]
  },
  {
   "cell_type": "code",
   "execution_count": null,
   "metadata": {
    "collapsed": true
   },
   "outputs": [],
   "source": [
    "x = MNIST.test.images[:10]\n",
    "x_noise = masking_noise(x, 0.5)\n",
    "pred_img = sess.run(pred, feed_dict = {X: x, X_noise:x_noise})\n",
    "f, a = plt.subplots(3, 10, figsize=(10, 3))\n",
    "plt.axis('off')\n",
    "for i in range(10):\n",
    "    a[0][i].imshow(np.reshape(x[i], (28, 28)))\n",
    "    a[1][i].imshow(np.reshape(x_noise[i], (28, 28)))\n",
    "    a[2][i].imshow(np.reshape(pred_img[i], (28, 28)))\n",
    "plt.show()\n",
    "        "
   ]
  },
  {
   "cell_type": "code",
   "execution_count": null,
   "metadata": {
    "collapsed": true
   },
   "outputs": [],
   "source": [
    "plt.axis('off')\n",
    "f, a = plt.subplots(3, 10, figsize=(10, 3))\n",
    "for i in range(10):\n",
    "    a[0][i].imshow(np.reshape(x[i], (28, 28)), cmap='Greys',  interpolation='nearest')\n",
    "    a[1][i].imshow(np.reshape(x_noise[i], (28, 28)), cmap='Greys',  interpolation='nearest')\n",
    "    a[2][i].imshow(np.reshape(pred_img[i], (28, 28)), cmap='Greys',  interpolation='nearest')\n",
    "plt.show()"
   ]
  },
  {
   "cell_type": "code",
   "execution_count": null,
   "metadata": {
    "collapsed": true
   },
   "outputs": [],
   "source": []
  },
  {
   "cell_type": "code",
   "execution_count": null,
   "metadata": {
    "collapsed": true
   },
   "outputs": [],
   "source": []
  },
  {
   "cell_type": "code",
   "execution_count": null,
   "metadata": {
    "collapsed": true
   },
   "outputs": [],
   "source": []
  },
  {
   "cell_type": "code",
   "execution_count": null,
   "metadata": {
    "collapsed": true
   },
   "outputs": [],
   "source": []
  },
  {
   "cell_type": "code",
   "execution_count": null,
   "metadata": {
    "collapsed": true
   },
   "outputs": [],
   "source": []
  }
 ],
 "metadata": {
  "anaconda-cloud": {},
  "kernelspec": {
   "display_name": "Python 2",
   "language": "python",
   "name": "python2"
  },
  "language_info": {
   "codemirror_mode": {
    "name": "ipython",
    "version": 2
   },
   "file_extension": ".py",
   "mimetype": "text/x-python",
   "name": "python",
   "nbconvert_exporter": "python",
   "pygments_lexer": "ipython2",
   "version": "2.7.15"
  }
 },
 "nbformat": 4,
 "nbformat_minor": 1
}
