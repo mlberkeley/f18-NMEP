{
 "cells": [
  {
   "cell_type": "code",
   "execution_count": 1,
   "metadata": {},
   "outputs": [
    {
     "name": "stderr",
     "output_type": "stream",
     "text": [
      "/Users/nikitavemuri/anaconda/lib/python3.6/site-packages/sklearn/cross_validation.py:41: DeprecationWarning: This module was deprecated in version 0.18 in favor of the model_selection module into which all the refactored classes and functions are moved. Also note that the interface of the new CV iterators are different from that of this module. This module will be removed in 0.20.\n",
      "  \"This module will be removed in 0.20.\", DeprecationWarning)\n",
      "/Users/nikitavemuri/anaconda/lib/python3.6/site-packages/sklearn/grid_search.py:42: DeprecationWarning: This module was deprecated in version 0.18 in favor of the model_selection module into which all the refactored classes and functions are moved. This module will be removed in 0.20.\n",
      "  DeprecationWarning)\n"
     ]
    }
   ],
   "source": [
    "from sklearn.datasets import load_iris\n",
    "from sklearn import tree\n",
    "import pandas as pd\n",
    "import graphviz\n",
    "import numpy as np\n",
    "from sklearn.model_selection import GridSearchCV\n",
    "from sklearn.grid_search import RandomizedSearchCV\n",
    "from sklearn.ensemble import RandomForestClassifier\n",
    "from sklearn.ensemble import AdaBoostClassifier\n",
    "from scipy.stats import randint"
   ]
  },
  {
   "cell_type": "code",
   "execution_count": 2,
   "metadata": {
    "collapsed": true
   },
   "outputs": [],
   "source": [
    "np.random.seed(0)"
   ]
  },
  {
   "cell_type": "markdown",
   "metadata": {},
   "source": [
    "# Decision Trees\n",
    "\n",
    "This notebook will walk through how to use decision trees with bagging and boosting methods in sklearn as well as introduce the bias variance tradeoff."
   ]
  },
  {
   "cell_type": "markdown",
   "metadata": {},
   "source": [
    "First load the iris dataset into a pandas dataframe."
   ]
  },
  {
   "cell_type": "code",
   "execution_count": 3,
   "metadata": {
    "collapsed": true
   },
   "outputs": [],
   "source": [
    "iris = load_iris()\n",
    "df = pd.DataFrame(iris.data, columns=iris.feature_names)"
   ]
  },
  {
   "cell_type": "markdown",
   "metadata": {},
   "source": [
    "We will then add the species label to each datapoint using the encoding given in the dataset to understand what the overall dataset looks like."
   ]
  },
  {
   "cell_type": "code",
   "execution_count": 4,
   "metadata": {},
   "outputs": [
    {
     "data": {
      "text/html": [
       "<div>\n",
       "<style>\n",
       "    .dataframe thead tr:only-child th {\n",
       "        text-align: right;\n",
       "    }\n",
       "\n",
       "    .dataframe thead th {\n",
       "        text-align: left;\n",
       "    }\n",
       "\n",
       "    .dataframe tbody tr th {\n",
       "        vertical-align: top;\n",
       "    }\n",
       "</style>\n",
       "<table border=\"1\" class=\"dataframe\">\n",
       "  <thead>\n",
       "    <tr style=\"text-align: right;\">\n",
       "      <th></th>\n",
       "      <th>sepal length (cm)</th>\n",
       "      <th>sepal width (cm)</th>\n",
       "      <th>petal length (cm)</th>\n",
       "      <th>petal width (cm)</th>\n",
       "      <th>species</th>\n",
       "    </tr>\n",
       "  </thead>\n",
       "  <tbody>\n",
       "    <tr>\n",
       "      <th>0</th>\n",
       "      <td>5.1</td>\n",
       "      <td>3.5</td>\n",
       "      <td>1.4</td>\n",
       "      <td>0.2</td>\n",
       "      <td>setosa</td>\n",
       "    </tr>\n",
       "    <tr>\n",
       "      <th>1</th>\n",
       "      <td>4.9</td>\n",
       "      <td>3.0</td>\n",
       "      <td>1.4</td>\n",
       "      <td>0.2</td>\n",
       "      <td>setosa</td>\n",
       "    </tr>\n",
       "    <tr>\n",
       "      <th>2</th>\n",
       "      <td>4.7</td>\n",
       "      <td>3.2</td>\n",
       "      <td>1.3</td>\n",
       "      <td>0.2</td>\n",
       "      <td>setosa</td>\n",
       "    </tr>\n",
       "    <tr>\n",
       "      <th>3</th>\n",
       "      <td>4.6</td>\n",
       "      <td>3.1</td>\n",
       "      <td>1.5</td>\n",
       "      <td>0.2</td>\n",
       "      <td>setosa</td>\n",
       "    </tr>\n",
       "    <tr>\n",
       "      <th>4</th>\n",
       "      <td>5.0</td>\n",
       "      <td>3.6</td>\n",
       "      <td>1.4</td>\n",
       "      <td>0.2</td>\n",
       "      <td>setosa</td>\n",
       "    </tr>\n",
       "  </tbody>\n",
       "</table>\n",
       "</div>"
      ],
      "text/plain": [
       "   sepal length (cm)  sepal width (cm)  petal length (cm)  petal width (cm)  \\\n",
       "0                5.1               3.5                1.4               0.2   \n",
       "1                4.9               3.0                1.4               0.2   \n",
       "2                4.7               3.2                1.3               0.2   \n",
       "3                4.6               3.1                1.5               0.2   \n",
       "4                5.0               3.6                1.4               0.2   \n",
       "\n",
       "  species  \n",
       "0  setosa  \n",
       "1  setosa  \n",
       "2  setosa  \n",
       "3  setosa  \n",
       "4  setosa  "
      ]
     },
     "execution_count": 4,
     "metadata": {},
     "output_type": "execute_result"
    }
   ],
   "source": [
    "df['species'] = pd.Categorical.from_codes(iris.target, iris.target_names)\n",
    "df.head()"
   ]
  },
  {
   "cell_type": "markdown",
   "metadata": {},
   "source": [
    "Split the dataframe into training and validation data."
   ]
  },
  {
   "cell_type": "code",
   "execution_count": 5,
   "metadata": {
    "collapsed": true
   },
   "outputs": [],
   "source": [
    "df['is_train'] = np.random.uniform(0, 1, len(df)) <= .75\n",
    "train, test = df[df['is_train']==True], df[df['is_train']==False]\n",
    "train = train.drop(['is_train'], axis = 1)\n",
    "test = test.drop(['is_train'], axis = 1)"
   ]
  },
  {
   "cell_type": "markdown",
   "metadata": {},
   "source": [
    "Separate the labels and feature from both the training and test datasets and refactorize the labels."
   ]
  },
  {
   "cell_type": "code",
   "execution_count": 6,
   "metadata": {
    "collapsed": true
   },
   "outputs": [],
   "source": [
    "train_features = train[train.columns[:4]]\n",
    "train_labels = pd.factorize(train['species'])[0]\n",
    "test_features = test[test.columns[:4]]\n",
    "test_labels = pd.factorize(test['species'])[0]"
   ]
  },
  {
   "cell_type": "markdown",
   "metadata": {},
   "source": [
    "Create a basic decision tree which minimizes entropy and fit it to the training data."
   ]
  },
  {
   "cell_type": "code",
   "execution_count": 7,
   "metadata": {},
   "outputs": [
    {
     "data": {
      "text/plain": [
       "DecisionTreeClassifier(class_weight=None, criterion='entropy', max_depth=None,\n",
       "            max_features=None, max_leaf_nodes=None,\n",
       "            min_impurity_decrease=0.0, min_impurity_split=None,\n",
       "            min_samples_leaf=1, min_samples_split=2,\n",
       "            min_weight_fraction_leaf=0.0, presort=False, random_state=None,\n",
       "            splitter='best')"
      ]
     },
     "execution_count": 7,
     "metadata": {},
     "output_type": "execute_result"
    }
   ],
   "source": [
    "clf = tree.DecisionTreeClassifier(criterion = 'entropy')\n",
    "clf.fit(train_features, train_labels)"
   ]
  },
  {
   "cell_type": "markdown",
   "metadata": {},
   "source": [
    "We can visualize this decision tree by using graphviz. Visualizing a decision tree allows us to easily interpret how the predictions or classifications are made because each split is clearly defined.\n",
    "\n",
    "Notice how with each split the weighted entropy of the two branches is less than the entropy of the parent.\n"
   ]
  },
  {
   "cell_type": "code",
   "execution_count": 8,
   "metadata": {
    "collapsed": true
   },
   "outputs": [],
   "source": [
    "dot_data = tree.export_graphviz(clf, out_file=None, \n",
    "                         feature_names=iris.feature_names,  \n",
    "                         class_names=iris.target_names,  \n",
    "                         filled=True, rounded=True,  \n",
    "                         special_characters=True)"
   ]
  },
  {
   "cell_type": "code",
   "execution_count": 9,
   "metadata": {},
   "outputs": [
    {
     "data": {
      "image/svg+xml": [
       "<?xml version=\"1.0\" encoding=\"UTF-8\" standalone=\"no\"?>\n",
       "<!DOCTYPE svg PUBLIC \"-//W3C//DTD SVG 1.1//EN\"\n",
       " \"http://www.w3.org/Graphics/SVG/1.1/DTD/svg11.dtd\">\n",
       "<!-- Generated by graphviz version 2.38.0 (20140413.2041)\n",
       " -->\n",
       "<!-- Title: Tree Pages: 1 -->\n",
       "<svg width=\"658pt\" height=\"756pt\"\n",
       " viewBox=\"0.00 0.00 658.48 756.00\" xmlns=\"http://www.w3.org/2000/svg\" xmlns:xlink=\"http://www.w3.org/1999/xlink\">\n",
       "<g id=\"graph0\" class=\"graph\" transform=\"scale(1 1) rotate(0) translate(4 752)\">\n",
       "<title>Tree</title>\n",
       "<polygon fill=\"white\" stroke=\"none\" points=\"-4,4 -4,-752 654.479,-752 654.479,4 -4,4\"/>\n",
       "<!-- 0 -->\n",
       "<g id=\"node1\" class=\"node\"><title>0</title>\n",
       "<path fill=\"#39e581\" fill-opacity=\"0.062745\" stroke=\"black\" d=\"M264.609,-748C264.609,-748 139.146,-748 139.146,-748 133.146,-748 127.146,-742 127.146,-736 127.146,-736 127.146,-682 127.146,-682 127.146,-676 133.146,-670 139.146,-670 139.146,-670 264.609,-670 264.609,-670 270.609,-670 276.609,-676 276.609,-682 276.609,-682 276.609,-736 276.609,-736 276.609,-742 270.609,-748 264.609,-748\"/>\n",
       "<text text-anchor=\"start\" x=\"135.012\" y=\"-732.8\" font-family=\"Helvetica,sans-Serif\" font-size=\"14.00\">petal width (cm) ≤ 0.8</text>\n",
       "<text text-anchor=\"start\" x=\"153.035\" y=\"-718.8\" font-family=\"Helvetica,sans-Serif\" font-size=\"14.00\">entropy = 1.582</text>\n",
       "<text text-anchor=\"start\" x=\"156.671\" y=\"-704.8\" font-family=\"Helvetica,sans-Serif\" font-size=\"14.00\">samples = 118</text>\n",
       "<text text-anchor=\"start\" x=\"142.138\" y=\"-690.8\" font-family=\"Helvetica,sans-Serif\" font-size=\"14.00\">value = [37, 43, 38]</text>\n",
       "<text text-anchor=\"start\" x=\"148\" y=\"-676.8\" font-family=\"Helvetica,sans-Serif\" font-size=\"14.00\">class = versicolor</text>\n",
       "</g>\n",
       "<!-- 1 -->\n",
       "<g id=\"node2\" class=\"node\"><title>1</title>\n",
       "<path fill=\"#e58139\" stroke=\"black\" d=\"M170.784,-627C170.784,-627 74.9712,-627 74.9712,-627 68.9712,-627 62.9712,-621 62.9712,-615 62.9712,-615 62.9712,-575 62.9712,-575 62.9712,-569 68.9712,-563 74.9712,-563 74.9712,-563 170.784,-563 170.784,-563 176.784,-563 182.784,-569 182.784,-575 182.784,-575 182.784,-615 182.784,-615 182.784,-621 176.784,-627 170.784,-627\"/>\n",
       "<text text-anchor=\"start\" x=\"81.8208\" y=\"-611.8\" font-family=\"Helvetica,sans-Serif\" font-size=\"14.00\">entropy = 0.0</text>\n",
       "<text text-anchor=\"start\" x=\"81.0483\" y=\"-597.8\" font-family=\"Helvetica,sans-Serif\" font-size=\"14.00\">samples = 37</text>\n",
       "<text text-anchor=\"start\" x=\"70.9243\" y=\"-583.8\" font-family=\"Helvetica,sans-Serif\" font-size=\"14.00\">value = [37, 0, 0]</text>\n",
       "<text text-anchor=\"start\" x=\"78.3276\" y=\"-569.8\" font-family=\"Helvetica,sans-Serif\" font-size=\"14.00\">class = setosa</text>\n",
       "</g>\n",
       "<!-- 0&#45;&gt;1 -->\n",
       "<g id=\"edge1\" class=\"edge\"><title>0&#45;&gt;1</title>\n",
       "<path fill=\"none\" stroke=\"black\" d=\"M174.911,-669.769C167.075,-658.66 158.504,-646.509 150.621,-635.333\"/>\n",
       "<polygon fill=\"black\" stroke=\"black\" points=\"153.375,-633.164 144.751,-627.01 147.654,-637.199 153.375,-633.164\"/>\n",
       "<text text-anchor=\"middle\" x=\"140.494\" y=\"-647.445\" font-family=\"Helvetica,sans-Serif\" font-size=\"14.00\">True</text>\n",
       "</g>\n",
       "<!-- 2 -->\n",
       "<g id=\"node3\" class=\"node\"><title>2</title>\n",
       "<path fill=\"#39e581\" fill-opacity=\"0.117647\" stroke=\"black\" d=\"M351.357,-634C351.357,-634 212.398,-634 212.398,-634 206.398,-634 200.398,-628 200.398,-622 200.398,-622 200.398,-568 200.398,-568 200.398,-562 206.398,-556 212.398,-556 212.398,-556 351.357,-556 351.357,-556 357.357,-556 363.357,-562 363.357,-568 363.357,-568 363.357,-622 363.357,-622 363.357,-628 357.357,-634 351.357,-634\"/>\n",
       "<text text-anchor=\"start\" x=\"208.388\" y=\"-618.8\" font-family=\"Helvetica,sans-Serif\" font-size=\"14.00\">petal length (cm) ≤ 4.75</text>\n",
       "<text text-anchor=\"start\" x=\"233.035\" y=\"-604.8\" font-family=\"Helvetica,sans-Serif\" font-size=\"14.00\">entropy = 0.997</text>\n",
       "<text text-anchor=\"start\" x=\"240.048\" y=\"-590.8\" font-family=\"Helvetica,sans-Serif\" font-size=\"14.00\">samples = 81</text>\n",
       "<text text-anchor=\"start\" x=\"226.031\" y=\"-576.8\" font-family=\"Helvetica,sans-Serif\" font-size=\"14.00\">value = [0, 43, 38]</text>\n",
       "<text text-anchor=\"start\" x=\"228\" y=\"-562.8\" font-family=\"Helvetica,sans-Serif\" font-size=\"14.00\">class = versicolor</text>\n",
       "</g>\n",
       "<!-- 0&#45;&gt;2 -->\n",
       "<g id=\"edge2\" class=\"edge\"><title>0&#45;&gt;2</title>\n",
       "<path fill=\"none\" stroke=\"black\" d=\"M229.185,-669.769C235.492,-660.939 242.269,-651.451 248.793,-642.318\"/>\n",
       "<polygon fill=\"black\" stroke=\"black\" points=\"251.728,-644.23 254.693,-634.058 246.032,-640.161 251.728,-644.23\"/>\n",
       "<text text-anchor=\"middle\" x=\"258.803\" y=\"-654.518\" font-family=\"Helvetica,sans-Serif\" font-size=\"14.00\">False</text>\n",
       "</g>\n",
       "<!-- 3 -->\n",
       "<g id=\"node4\" class=\"node\"><title>3</title>\n",
       "<path fill=\"#39e581\" fill-opacity=\"0.976471\" stroke=\"black\" d=\"M260.396,-520C260.396,-520 127.359,-520 127.359,-520 121.359,-520 115.359,-514 115.359,-508 115.359,-508 115.359,-454 115.359,-454 115.359,-448 121.359,-442 127.359,-442 127.359,-442 260.396,-442 260.396,-442 266.396,-442 272.396,-448 272.396,-454 272.396,-454 272.396,-508 272.396,-508 272.396,-514 266.396,-520 260.396,-520\"/>\n",
       "<text text-anchor=\"start\" x=\"123.119\" y=\"-504.8\" font-family=\"Helvetica,sans-Serif\" font-size=\"14.00\">petal width (cm) ≤ 1.65</text>\n",
       "<text text-anchor=\"start\" x=\"145.035\" y=\"-490.8\" font-family=\"Helvetica,sans-Serif\" font-size=\"14.00\">entropy = 0.165</text>\n",
       "<text text-anchor=\"start\" x=\"152.048\" y=\"-476.8\" font-family=\"Helvetica,sans-Serif\" font-size=\"14.00\">samples = 41</text>\n",
       "<text text-anchor=\"start\" x=\"141.924\" y=\"-462.8\" font-family=\"Helvetica,sans-Serif\" font-size=\"14.00\">value = [0, 40, 1]</text>\n",
       "<text text-anchor=\"start\" x=\"140\" y=\"-448.8\" font-family=\"Helvetica,sans-Serif\" font-size=\"14.00\">class = versicolor</text>\n",
       "</g>\n",
       "<!-- 2&#45;&gt;3 -->\n",
       "<g id=\"edge3\" class=\"edge\"><title>2&#45;&gt;3</title>\n",
       "<path fill=\"none\" stroke=\"black\" d=\"M251.839,-555.769C244.83,-546.849 237.294,-537.257 230.05,-528.038\"/>\n",
       "<polygon fill=\"black\" stroke=\"black\" points=\"232.711,-525.759 223.781,-520.058 227.207,-530.084 232.711,-525.759\"/>\n",
       "</g>\n",
       "<!-- 6 -->\n",
       "<g id=\"node7\" class=\"node\"><title>6</title>\n",
       "<path fill=\"#8139e5\" fill-opacity=\"0.917647\" stroke=\"black\" d=\"M436.396,-520C436.396,-520 303.359,-520 303.359,-520 297.359,-520 291.359,-514 291.359,-508 291.359,-508 291.359,-454 291.359,-454 291.359,-448 297.359,-442 303.359,-442 303.359,-442 436.396,-442 436.396,-442 442.396,-442 448.396,-448 448.396,-454 448.396,-454 448.396,-508 448.396,-508 448.396,-514 442.396,-520 436.396,-520\"/>\n",
       "<text text-anchor=\"start\" x=\"299.119\" y=\"-504.8\" font-family=\"Helvetica,sans-Serif\" font-size=\"14.00\">petal width (cm) ≤ 1.75</text>\n",
       "<text text-anchor=\"start\" x=\"321.035\" y=\"-490.8\" font-family=\"Helvetica,sans-Serif\" font-size=\"14.00\">entropy = 0.384</text>\n",
       "<text text-anchor=\"start\" x=\"328.048\" y=\"-476.8\" font-family=\"Helvetica,sans-Serif\" font-size=\"14.00\">samples = 40</text>\n",
       "<text text-anchor=\"start\" x=\"317.924\" y=\"-462.8\" font-family=\"Helvetica,sans-Serif\" font-size=\"14.00\">value = [0, 3, 37]</text>\n",
       "<text text-anchor=\"start\" x=\"320.276\" y=\"-448.8\" font-family=\"Helvetica,sans-Serif\" font-size=\"14.00\">class = virginica</text>\n",
       "</g>\n",
       "<!-- 2&#45;&gt;6 -->\n",
       "<g id=\"edge6\" class=\"edge\"><title>2&#45;&gt;6</title>\n",
       "<path fill=\"none\" stroke=\"black\" d=\"M311.916,-555.769C318.925,-546.849 326.461,-537.257 333.705,-528.038\"/>\n",
       "<polygon fill=\"black\" stroke=\"black\" points=\"336.548,-530.084 339.974,-520.058 331.044,-525.759 336.548,-530.084\"/>\n",
       "</g>\n",
       "<!-- 4 -->\n",
       "<g id=\"node5\" class=\"node\"><title>4</title>\n",
       "<path fill=\"#39e581\" stroke=\"black\" d=\"M111.633,-399C111.633,-399 12.1223,-399 12.1223,-399 6.12232,-399 0.122316,-393 0.122316,-387 0.122316,-387 0.122316,-347 0.122316,-347 0.122316,-341 6.12232,-335 12.1223,-335 12.1223,-335 111.633,-335 111.633,-335 117.633,-335 123.633,-341 123.633,-347 123.633,-347 123.633,-387 123.633,-387 123.633,-393 117.633,-399 111.633,-399\"/>\n",
       "<text text-anchor=\"start\" x=\"20.8208\" y=\"-383.8\" font-family=\"Helvetica,sans-Serif\" font-size=\"14.00\">entropy = 0.0</text>\n",
       "<text text-anchor=\"start\" x=\"20.0483\" y=\"-369.8\" font-family=\"Helvetica,sans-Serif\" font-size=\"14.00\">samples = 40</text>\n",
       "<text text-anchor=\"start\" x=\"9.92432\" y=\"-355.8\" font-family=\"Helvetica,sans-Serif\" font-size=\"14.00\">value = [0, 40, 0]</text>\n",
       "<text text-anchor=\"start\" x=\"8\" y=\"-341.8\" font-family=\"Helvetica,sans-Serif\" font-size=\"14.00\">class = versicolor</text>\n",
       "</g>\n",
       "<!-- 3&#45;&gt;4 -->\n",
       "<g id=\"edge4\" class=\"edge\"><title>3&#45;&gt;4</title>\n",
       "<path fill=\"none\" stroke=\"black\" d=\"M148.82,-441.769C135.084,-430.115 119.999,-417.315 106.306,-405.697\"/>\n",
       "<polygon fill=\"black\" stroke=\"black\" points=\"108.315,-402.811 98.425,-399.01 103.786,-408.149 108.315,-402.811\"/>\n",
       "</g>\n",
       "<!-- 5 -->\n",
       "<g id=\"node6\" class=\"node\"><title>5</title>\n",
       "<path fill=\"#8139e5\" stroke=\"black\" d=\"M244.581,-399C244.581,-399 153.174,-399 153.174,-399 147.174,-399 141.174,-393 141.174,-387 141.174,-387 141.174,-347 141.174,-347 141.174,-341 147.174,-335 153.174,-335 153.174,-335 244.581,-335 244.581,-335 250.581,-335 256.581,-341 256.581,-347 256.581,-347 256.581,-387 256.581,-387 256.581,-393 250.581,-399 244.581,-399\"/>\n",
       "<text text-anchor=\"start\" x=\"157.821\" y=\"-383.8\" font-family=\"Helvetica,sans-Serif\" font-size=\"14.00\">entropy = 0.0</text>\n",
       "<text text-anchor=\"start\" x=\"160.941\" y=\"-369.8\" font-family=\"Helvetica,sans-Serif\" font-size=\"14.00\">samples = 1</text>\n",
       "<text text-anchor=\"start\" x=\"150.817\" y=\"-355.8\" font-family=\"Helvetica,sans-Serif\" font-size=\"14.00\">value = [0, 0, 1]</text>\n",
       "<text text-anchor=\"start\" x=\"149.276\" y=\"-341.8\" font-family=\"Helvetica,sans-Serif\" font-size=\"14.00\">class = virginica</text>\n",
       "</g>\n",
       "<!-- 3&#45;&gt;5 -->\n",
       "<g id=\"edge5\" class=\"edge\"><title>3&#45;&gt;5</title>\n",
       "<path fill=\"none\" stroke=\"black\" d=\"M195.584,-441.769C196.051,-431.313 196.559,-419.935 197.033,-409.315\"/>\n",
       "<polygon fill=\"black\" stroke=\"black\" points=\"200.544,-409.156 197.493,-399.01 193.55,-408.844 200.544,-409.156\"/>\n",
       "</g>\n",
       "<!-- 7 -->\n",
       "<g id=\"node8\" class=\"node\"><title>7</title>\n",
       "<path fill=\"#8139e5\" fill-opacity=\"0.250980\" stroke=\"black\" d=\"M433.006,-406C433.006,-406 296.749,-406 296.749,-406 290.749,-406 284.749,-400 284.749,-394 284.749,-394 284.749,-340 284.749,-340 284.749,-334 290.749,-328 296.749,-328 296.749,-328 433.006,-328 433.006,-328 439.006,-328 445.006,-334 445.006,-340 445.006,-340 445.006,-394 445.006,-394 445.006,-400 439.006,-406 433.006,-406\"/>\n",
       "<text text-anchor=\"start\" x=\"292.563\" y=\"-390.8\" font-family=\"Helvetica,sans-Serif\" font-size=\"14.00\">sepal width (cm) ≤ 2.65</text>\n",
       "<text text-anchor=\"start\" x=\"316.035\" y=\"-376.8\" font-family=\"Helvetica,sans-Serif\" font-size=\"14.00\">entropy = 0.985</text>\n",
       "<text text-anchor=\"start\" x=\"326.941\" y=\"-362.8\" font-family=\"Helvetica,sans-Serif\" font-size=\"14.00\">samples = 7</text>\n",
       "<text text-anchor=\"start\" x=\"316.817\" y=\"-348.8\" font-family=\"Helvetica,sans-Serif\" font-size=\"14.00\">value = [0, 3, 4]</text>\n",
       "<text text-anchor=\"start\" x=\"315.276\" y=\"-334.8\" font-family=\"Helvetica,sans-Serif\" font-size=\"14.00\">class = virginica</text>\n",
       "</g>\n",
       "<!-- 6&#45;&gt;7 -->\n",
       "<g id=\"edge7\" class=\"edge\"><title>6&#45;&gt;7</title>\n",
       "<path fill=\"none\" stroke=\"black\" d=\"M368.171,-441.769C367.805,-433.57 367.413,-424.803 367.033,-416.28\"/>\n",
       "<polygon fill=\"black\" stroke=\"black\" points=\"370.519,-415.892 366.576,-406.058 363.526,-416.205 370.519,-415.892\"/>\n",
       "</g>\n",
       "<!-- 14 -->\n",
       "<g id=\"node15\" class=\"node\"><title>14</title>\n",
       "<path fill=\"#8139e5\" stroke=\"black\" d=\"M570.784,-399C570.784,-399 474.971,-399 474.971,-399 468.971,-399 462.971,-393 462.971,-387 462.971,-387 462.971,-347 462.971,-347 462.971,-341 468.971,-335 474.971,-335 474.971,-335 570.784,-335 570.784,-335 576.784,-335 582.784,-341 582.784,-347 582.784,-347 582.784,-387 582.784,-387 582.784,-393 576.784,-399 570.784,-399\"/>\n",
       "<text text-anchor=\"start\" x=\"481.821\" y=\"-383.8\" font-family=\"Helvetica,sans-Serif\" font-size=\"14.00\">entropy = 0.0</text>\n",
       "<text text-anchor=\"start\" x=\"481.048\" y=\"-369.8\" font-family=\"Helvetica,sans-Serif\" font-size=\"14.00\">samples = 33</text>\n",
       "<text text-anchor=\"start\" x=\"470.924\" y=\"-355.8\" font-family=\"Helvetica,sans-Serif\" font-size=\"14.00\">value = [0, 0, 33]</text>\n",
       "<text text-anchor=\"start\" x=\"473.276\" y=\"-341.8\" font-family=\"Helvetica,sans-Serif\" font-size=\"14.00\">class = virginica</text>\n",
       "</g>\n",
       "<!-- 6&#45;&gt;14 -->\n",
       "<g id=\"edge14\" class=\"edge\"><title>6&#45;&gt;14</title>\n",
       "<path fill=\"none\" stroke=\"black\" d=\"M422.103,-441.769C438.321,-429.897 456.163,-416.837 472.269,-405.047\"/>\n",
       "<polygon fill=\"black\" stroke=\"black\" points=\"474.514,-407.741 480.516,-399.01 470.379,-402.093 474.514,-407.741\"/>\n",
       "</g>\n",
       "<!-- 8 -->\n",
       "<g id=\"node9\" class=\"node\"><title>8</title>\n",
       "<path fill=\"#8139e5\" stroke=\"black\" d=\"M331.581,-285C331.581,-285 240.174,-285 240.174,-285 234.174,-285 228.174,-279 228.174,-273 228.174,-273 228.174,-233 228.174,-233 228.174,-227 234.174,-221 240.174,-221 240.174,-221 331.581,-221 331.581,-221 337.581,-221 343.581,-227 343.581,-233 343.581,-233 343.581,-273 343.581,-273 343.581,-279 337.581,-285 331.581,-285\"/>\n",
       "<text text-anchor=\"start\" x=\"244.821\" y=\"-269.8\" font-family=\"Helvetica,sans-Serif\" font-size=\"14.00\">entropy = 0.0</text>\n",
       "<text text-anchor=\"start\" x=\"247.941\" y=\"-255.8\" font-family=\"Helvetica,sans-Serif\" font-size=\"14.00\">samples = 2</text>\n",
       "<text text-anchor=\"start\" x=\"237.817\" y=\"-241.8\" font-family=\"Helvetica,sans-Serif\" font-size=\"14.00\">value = [0, 0, 2]</text>\n",
       "<text text-anchor=\"start\" x=\"236.276\" y=\"-227.8\" font-family=\"Helvetica,sans-Serif\" font-size=\"14.00\">class = virginica</text>\n",
       "</g>\n",
       "<!-- 7&#45;&gt;8 -->\n",
       "<g id=\"edge8\" class=\"edge\"><title>7&#45;&gt;8</title>\n",
       "<path fill=\"none\" stroke=\"black\" d=\"M337.911,-327.769C330.075,-316.66 321.504,-304.509 313.621,-293.333\"/>\n",
       "<polygon fill=\"black\" stroke=\"black\" points=\"316.375,-291.164 307.751,-285.01 310.654,-295.199 316.375,-291.164\"/>\n",
       "</g>\n",
       "<!-- 9 -->\n",
       "<g id=\"node10\" class=\"node\"><title>9</title>\n",
       "<path fill=\"#39e581\" fill-opacity=\"0.333333\" stroke=\"black\" d=\"M512.357,-292C512.357,-292 373.398,-292 373.398,-292 367.398,-292 361.398,-286 361.398,-280 361.398,-280 361.398,-226 361.398,-226 361.398,-220 367.398,-214 373.398,-214 373.398,-214 512.357,-214 512.357,-214 518.357,-214 524.357,-220 524.357,-226 524.357,-226 524.357,-280 524.357,-280 524.357,-286 518.357,-292 512.357,-292\"/>\n",
       "<text text-anchor=\"start\" x=\"369.388\" y=\"-276.8\" font-family=\"Helvetica,sans-Serif\" font-size=\"14.00\">petal length (cm) ≤ 5.05</text>\n",
       "<text text-anchor=\"start\" x=\"394.035\" y=\"-262.8\" font-family=\"Helvetica,sans-Serif\" font-size=\"14.00\">entropy = 0.971</text>\n",
       "<text text-anchor=\"start\" x=\"404.941\" y=\"-248.8\" font-family=\"Helvetica,sans-Serif\" font-size=\"14.00\">samples = 5</text>\n",
       "<text text-anchor=\"start\" x=\"394.817\" y=\"-234.8\" font-family=\"Helvetica,sans-Serif\" font-size=\"14.00\">value = [0, 3, 2]</text>\n",
       "<text text-anchor=\"start\" x=\"389\" y=\"-220.8\" font-family=\"Helvetica,sans-Serif\" font-size=\"14.00\">class = versicolor</text>\n",
       "</g>\n",
       "<!-- 7&#45;&gt;9 -->\n",
       "<g id=\"edge9\" class=\"edge\"><title>7&#45;&gt;9</title>\n",
       "<path fill=\"none\" stroke=\"black\" d=\"M391.502,-327.769C397.652,-318.939 404.26,-309.451 410.62,-300.318\"/>\n",
       "<polygon fill=\"black\" stroke=\"black\" points=\"413.53,-302.265 416.372,-292.058 407.785,-298.264 413.53,-302.265\"/>\n",
       "</g>\n",
       "<!-- 10 -->\n",
       "<g id=\"node11\" class=\"node\"><title>10</title>\n",
       "<path fill=\"#39e581\" stroke=\"black\" d=\"M411.633,-171C411.633,-171 312.122,-171 312.122,-171 306.122,-171 300.122,-165 300.122,-159 300.122,-159 300.122,-119 300.122,-119 300.122,-113 306.122,-107 312.122,-107 312.122,-107 411.633,-107 411.633,-107 417.633,-107 423.633,-113 423.633,-119 423.633,-119 423.633,-159 423.633,-159 423.633,-165 417.633,-171 411.633,-171\"/>\n",
       "<text text-anchor=\"start\" x=\"320.821\" y=\"-155.8\" font-family=\"Helvetica,sans-Serif\" font-size=\"14.00\">entropy = 0.0</text>\n",
       "<text text-anchor=\"start\" x=\"323.941\" y=\"-141.8\" font-family=\"Helvetica,sans-Serif\" font-size=\"14.00\">samples = 2</text>\n",
       "<text text-anchor=\"start\" x=\"313.817\" y=\"-127.8\" font-family=\"Helvetica,sans-Serif\" font-size=\"14.00\">value = [0, 2, 0]</text>\n",
       "<text text-anchor=\"start\" x=\"308\" y=\"-113.8\" font-family=\"Helvetica,sans-Serif\" font-size=\"14.00\">class = versicolor</text>\n",
       "</g>\n",
       "<!-- 9&#45;&gt;10 -->\n",
       "<g id=\"edge10\" class=\"edge\"><title>9&#45;&gt;10</title>\n",
       "<path fill=\"none\" stroke=\"black\" d=\"M415.228,-213.769C407.194,-202.66 398.406,-190.509 390.324,-179.333\"/>\n",
       "<polygon fill=\"black\" stroke=\"black\" points=\"393.001,-177.062 384.304,-171.01 387.329,-181.164 393.001,-177.062\"/>\n",
       "</g>\n",
       "<!-- 11 -->\n",
       "<g id=\"node12\" class=\"node\"><title>11</title>\n",
       "<path fill=\"#8139e5\" fill-opacity=\"0.498039\" stroke=\"black\" d=\"M595.967,-178C595.967,-178 453.788,-178 453.788,-178 447.788,-178 441.788,-172 441.788,-166 441.788,-166 441.788,-112 441.788,-112 441.788,-106 447.788,-100 453.788,-100 453.788,-100 595.967,-100 595.967,-100 601.967,-100 607.967,-106 607.967,-112 607.967,-112 607.967,-166 607.967,-166 607.967,-172 601.967,-178 595.967,-178\"/>\n",
       "<text text-anchor=\"start\" x=\"449.833\" y=\"-162.8\" font-family=\"Helvetica,sans-Serif\" font-size=\"14.00\">sepal length (cm) ≤ 6.15</text>\n",
       "<text text-anchor=\"start\" x=\"476.035\" y=\"-148.8\" font-family=\"Helvetica,sans-Serif\" font-size=\"14.00\">entropy = 0.918</text>\n",
       "<text text-anchor=\"start\" x=\"486.941\" y=\"-134.8\" font-family=\"Helvetica,sans-Serif\" font-size=\"14.00\">samples = 3</text>\n",
       "<text text-anchor=\"start\" x=\"476.817\" y=\"-120.8\" font-family=\"Helvetica,sans-Serif\" font-size=\"14.00\">value = [0, 1, 2]</text>\n",
       "<text text-anchor=\"start\" x=\"475.276\" y=\"-106.8\" font-family=\"Helvetica,sans-Serif\" font-size=\"14.00\">class = virginica</text>\n",
       "</g>\n",
       "<!-- 9&#45;&gt;11 -->\n",
       "<g id=\"edge11\" class=\"edge\"><title>9&#45;&gt;11</title>\n",
       "<path fill=\"none\" stroke=\"black\" d=\"M470.868,-213.769C477.333,-204.939 484.279,-195.451 490.966,-186.318\"/>\n",
       "<polygon fill=\"black\" stroke=\"black\" points=\"493.93,-188.195 497.013,-178.058 488.282,-184.06 493.93,-188.195\"/>\n",
       "</g>\n",
       "<!-- 12 -->\n",
       "<g id=\"node13\" class=\"node\"><title>12</title>\n",
       "<path fill=\"#39e581\" stroke=\"black\" d=\"M505.633,-64C505.633,-64 406.122,-64 406.122,-64 400.122,-64 394.122,-58 394.122,-52 394.122,-52 394.122,-12 394.122,-12 394.122,-6 400.122,-0 406.122,-0 406.122,-0 505.633,-0 505.633,-0 511.633,-0 517.633,-6 517.633,-12 517.633,-12 517.633,-52 517.633,-52 517.633,-58 511.633,-64 505.633,-64\"/>\n",
       "<text text-anchor=\"start\" x=\"414.821\" y=\"-48.8\" font-family=\"Helvetica,sans-Serif\" font-size=\"14.00\">entropy = 0.0</text>\n",
       "<text text-anchor=\"start\" x=\"417.941\" y=\"-34.8\" font-family=\"Helvetica,sans-Serif\" font-size=\"14.00\">samples = 1</text>\n",
       "<text text-anchor=\"start\" x=\"407.817\" y=\"-20.8\" font-family=\"Helvetica,sans-Serif\" font-size=\"14.00\">value = [0, 1, 0]</text>\n",
       "<text text-anchor=\"start\" x=\"402\" y=\"-6.8\" font-family=\"Helvetica,sans-Serif\" font-size=\"14.00\">class = versicolor</text>\n",
       "</g>\n",
       "<!-- 11&#45;&gt;12 -->\n",
       "<g id=\"edge12\" class=\"edge\"><title>11&#45;&gt;12</title>\n",
       "<path fill=\"none\" stroke=\"black\" d=\"M499.772,-99.7956C493.932,-90.9084 487.703,-81.4296 481.827,-72.4883\"/>\n",
       "<polygon fill=\"black\" stroke=\"black\" points=\"484.743,-70.5521 476.326,-64.1172 478.893,-74.3964 484.743,-70.5521\"/>\n",
       "</g>\n",
       "<!-- 13 -->\n",
       "<g id=\"node14\" class=\"node\"><title>13</title>\n",
       "<path fill=\"#8139e5\" stroke=\"black\" d=\"M638.581,-64C638.581,-64 547.174,-64 547.174,-64 541.174,-64 535.174,-58 535.174,-52 535.174,-52 535.174,-12 535.174,-12 535.174,-6 541.174,-0 547.174,-0 547.174,-0 638.581,-0 638.581,-0 644.581,-0 650.581,-6 650.581,-12 650.581,-12 650.581,-52 650.581,-52 650.581,-58 644.581,-64 638.581,-64\"/>\n",
       "<text text-anchor=\"start\" x=\"551.821\" y=\"-48.8\" font-family=\"Helvetica,sans-Serif\" font-size=\"14.00\">entropy = 0.0</text>\n",
       "<text text-anchor=\"start\" x=\"554.941\" y=\"-34.8\" font-family=\"Helvetica,sans-Serif\" font-size=\"14.00\">samples = 2</text>\n",
       "<text text-anchor=\"start\" x=\"544.817\" y=\"-20.8\" font-family=\"Helvetica,sans-Serif\" font-size=\"14.00\">value = [0, 0, 2]</text>\n",
       "<text text-anchor=\"start\" x=\"543.276\" y=\"-6.8\" font-family=\"Helvetica,sans-Serif\" font-size=\"14.00\">class = virginica</text>\n",
       "</g>\n",
       "<!-- 11&#45;&gt;13 -->\n",
       "<g id=\"edge13\" class=\"edge\"><title>11&#45;&gt;13</title>\n",
       "<path fill=\"none\" stroke=\"black\" d=\"M549.619,-99.7956C555.316,-91 561.387,-81.625 567.125,-72.765\"/>\n",
       "<polygon fill=\"black\" stroke=\"black\" points=\"570.227,-74.4133 572.725,-64.1172 564.352,-70.6082 570.227,-74.4133\"/>\n",
       "</g>\n",
       "</g>\n",
       "</svg>\n"
      ],
      "text/plain": [
       "<graphviz.files.Source at 0x10e852940>"
      ]
     },
     "execution_count": 9,
     "metadata": {},
     "output_type": "execute_result"
    }
   ],
   "source": [
    "graph = graphviz.Source(dot_data) \n",
    "graph"
   ]
  },
  {
   "cell_type": "markdown",
   "metadata": {},
   "source": [
    "Compute the training and validation accuracies. "
   ]
  },
  {
   "cell_type": "code",
   "execution_count": 10,
   "metadata": {},
   "outputs": [
    {
     "data": {
      "text/plain": [
       "1.0"
      ]
     },
     "execution_count": 10,
     "metadata": {},
     "output_type": "execute_result"
    }
   ],
   "source": [
    "clf.score(train_features, train_labels)"
   ]
  },
  {
   "cell_type": "code",
   "execution_count": 11,
   "metadata": {},
   "outputs": [
    {
     "data": {
      "text/plain": [
       "0.9375"
      ]
     },
     "execution_count": 11,
     "metadata": {},
     "output_type": "execute_result"
    }
   ],
   "source": [
    "clf.score(test_features, test_labels)"
   ]
  },
  {
   "cell_type": "markdown",
   "metadata": {},
   "source": [
    "We will now use Grid Search to find a good set of hyperparameters which attempt to regualize the tree."
   ]
  },
  {
   "cell_type": "code",
   "execution_count": 12,
   "metadata": {},
   "outputs": [
    {
     "data": {
      "text/plain": [
       "GridSearchCV(cv=None, error_score='raise',\n",
       "       estimator=DecisionTreeClassifier(class_weight=None, criterion='entropy', max_depth=None,\n",
       "            max_features=None, max_leaf_nodes=None,\n",
       "            min_impurity_decrease=0.0, min_impurity_split=None,\n",
       "            min_samples_leaf=1, min_samples_split=2,\n",
       "            min_weight_fraction_leaf=0.0, presort=False, random_state=None,\n",
       "            splitter='best'),\n",
       "       fit_params=None, iid=True, n_jobs=1,\n",
       "       param_grid={'min_samples_split': [2, 10], 'max_depth': [None, 2, 5, 10], 'min_samples_leaf': [1, 5, 10], 'max_leaf_nodes': [None, 5, 10, 20]},\n",
       "       pre_dispatch='2*n_jobs', refit=True, return_train_score=True,\n",
       "       scoring=None, verbose=0)"
      ]
     },
     "execution_count": 12,
     "metadata": {},
     "output_type": "execute_result"
    }
   ],
   "source": [
    "parameters = {\"min_samples_split\": [2, 10],\n",
    "              \"max_depth\": [None, 2, 5, 10],\n",
    "              \"min_samples_leaf\": [1, 5, 10],\n",
    "              \"max_leaf_nodes\": [None, 5, 10, 20],\n",
    "              }\n",
    "gridsearch = GridSearchCV(clf, parameters)\n",
    "gridsearch.fit(train_features, train_labels)"
   ]
  },
  {
   "cell_type": "code",
   "execution_count": 13,
   "metadata": {},
   "outputs": [
    {
     "data": {
      "text/plain": [
       "DecisionTreeClassifier(class_weight=None, criterion='entropy', max_depth=None,\n",
       "            max_features=None, max_leaf_nodes=None,\n",
       "            min_impurity_decrease=0.0, min_impurity_split=None,\n",
       "            min_samples_leaf=1, min_samples_split=2,\n",
       "            min_weight_fraction_leaf=0.0, presort=False, random_state=None,\n",
       "            splitter='best')"
      ]
     },
     "execution_count": 13,
     "metadata": {},
     "output_type": "execute_result"
    }
   ],
   "source": [
    "best_tree = gridsearch.best_estimator_ \n",
    "best_tree.fit(train_features, train_labels)"
   ]
  },
  {
   "cell_type": "markdown",
   "metadata": {},
   "source": [
    "Run the following code to visualize the new tree."
   ]
  },
  {
   "cell_type": "code",
   "execution_count": 14,
   "metadata": {},
   "outputs": [
    {
     "data": {
      "image/svg+xml": [
       "<?xml version=\"1.0\" encoding=\"UTF-8\" standalone=\"no\"?>\n",
       "<!DOCTYPE svg PUBLIC \"-//W3C//DTD SVG 1.1//EN\"\n",
       " \"http://www.w3.org/Graphics/SVG/1.1/DTD/svg11.dtd\">\n",
       "<!-- Generated by graphviz version 2.38.0 (20140413.2041)\n",
       " -->\n",
       "<!-- Title: Tree Pages: 1 -->\n",
       "<svg width=\"592pt\" height=\"756pt\"\n",
       " viewBox=\"0.00 0.00 591.83 756.00\" xmlns=\"http://www.w3.org/2000/svg\" xmlns:xlink=\"http://www.w3.org/1999/xlink\">\n",
       "<g id=\"graph0\" class=\"graph\" transform=\"scale(1 1) rotate(0) translate(4 752)\">\n",
       "<title>Tree</title>\n",
       "<polygon fill=\"white\" stroke=\"none\" points=\"-4,4 -4,-752 587.831,-752 587.831,4 -4,4\"/>\n",
       "<!-- 0 -->\n",
       "<g id=\"node1\" class=\"node\"><title>0</title>\n",
       "<path fill=\"#39e581\" fill-opacity=\"0.062745\" stroke=\"black\" d=\"M267.571,-748C267.571,-748 136.184,-748 136.184,-748 130.184,-748 124.184,-742 124.184,-736 124.184,-736 124.184,-682 124.184,-682 124.184,-676 130.184,-670 136.184,-670 136.184,-670 267.571,-670 267.571,-670 273.571,-670 279.571,-676 279.571,-682 279.571,-682 279.571,-736 279.571,-736 279.571,-742 273.571,-748 267.571,-748\"/>\n",
       "<text text-anchor=\"start\" x=\"132.281\" y=\"-732.8\" font-family=\"Helvetica,sans-Serif\" font-size=\"14.00\">petal length (cm) ≤ 2.6</text>\n",
       "<text text-anchor=\"start\" x=\"153.035\" y=\"-718.8\" font-family=\"Helvetica,sans-Serif\" font-size=\"14.00\">entropy = 1.582</text>\n",
       "<text text-anchor=\"start\" x=\"156.671\" y=\"-704.8\" font-family=\"Helvetica,sans-Serif\" font-size=\"14.00\">samples = 118</text>\n",
       "<text text-anchor=\"start\" x=\"142.138\" y=\"-690.8\" font-family=\"Helvetica,sans-Serif\" font-size=\"14.00\">value = [37, 43, 38]</text>\n",
       "<text text-anchor=\"start\" x=\"148\" y=\"-676.8\" font-family=\"Helvetica,sans-Serif\" font-size=\"14.00\">class = versicolor</text>\n",
       "</g>\n",
       "<!-- 1 -->\n",
       "<g id=\"node2\" class=\"node\"><title>1</title>\n",
       "<path fill=\"#e58139\" stroke=\"black\" d=\"M170.784,-627C170.784,-627 74.9712,-627 74.9712,-627 68.9712,-627 62.9712,-621 62.9712,-615 62.9712,-615 62.9712,-575 62.9712,-575 62.9712,-569 68.9712,-563 74.9712,-563 74.9712,-563 170.784,-563 170.784,-563 176.784,-563 182.784,-569 182.784,-575 182.784,-575 182.784,-615 182.784,-615 182.784,-621 176.784,-627 170.784,-627\"/>\n",
       "<text text-anchor=\"start\" x=\"81.8208\" y=\"-611.8\" font-family=\"Helvetica,sans-Serif\" font-size=\"14.00\">entropy = 0.0</text>\n",
       "<text text-anchor=\"start\" x=\"81.0483\" y=\"-597.8\" font-family=\"Helvetica,sans-Serif\" font-size=\"14.00\">samples = 37</text>\n",
       "<text text-anchor=\"start\" x=\"70.9243\" y=\"-583.8\" font-family=\"Helvetica,sans-Serif\" font-size=\"14.00\">value = [37, 0, 0]</text>\n",
       "<text text-anchor=\"start\" x=\"78.3276\" y=\"-569.8\" font-family=\"Helvetica,sans-Serif\" font-size=\"14.00\">class = setosa</text>\n",
       "</g>\n",
       "<!-- 0&#45;&gt;1 -->\n",
       "<g id=\"edge1\" class=\"edge\"><title>0&#45;&gt;1</title>\n",
       "<path fill=\"none\" stroke=\"black\" d=\"M174.911,-669.769C167.075,-658.66 158.504,-646.509 150.621,-635.333\"/>\n",
       "<polygon fill=\"black\" stroke=\"black\" points=\"153.375,-633.164 144.751,-627.01 147.654,-637.199 153.375,-633.164\"/>\n",
       "<text text-anchor=\"middle\" x=\"140.494\" y=\"-647.445\" font-family=\"Helvetica,sans-Serif\" font-size=\"14.00\">True</text>\n",
       "</g>\n",
       "<!-- 2 -->\n",
       "<g id=\"node3\" class=\"node\"><title>2</title>\n",
       "<path fill=\"#39e581\" fill-opacity=\"0.117647\" stroke=\"black\" d=\"M351.357,-634C351.357,-634 212.398,-634 212.398,-634 206.398,-634 200.398,-628 200.398,-622 200.398,-622 200.398,-568 200.398,-568 200.398,-562 206.398,-556 212.398,-556 212.398,-556 351.357,-556 351.357,-556 357.357,-556 363.357,-562 363.357,-568 363.357,-568 363.357,-622 363.357,-622 363.357,-628 357.357,-634 351.357,-634\"/>\n",
       "<text text-anchor=\"start\" x=\"208.388\" y=\"-618.8\" font-family=\"Helvetica,sans-Serif\" font-size=\"14.00\">petal length (cm) ≤ 4.75</text>\n",
       "<text text-anchor=\"start\" x=\"233.035\" y=\"-604.8\" font-family=\"Helvetica,sans-Serif\" font-size=\"14.00\">entropy = 0.997</text>\n",
       "<text text-anchor=\"start\" x=\"240.048\" y=\"-590.8\" font-family=\"Helvetica,sans-Serif\" font-size=\"14.00\">samples = 81</text>\n",
       "<text text-anchor=\"start\" x=\"226.031\" y=\"-576.8\" font-family=\"Helvetica,sans-Serif\" font-size=\"14.00\">value = [0, 43, 38]</text>\n",
       "<text text-anchor=\"start\" x=\"228\" y=\"-562.8\" font-family=\"Helvetica,sans-Serif\" font-size=\"14.00\">class = versicolor</text>\n",
       "</g>\n",
       "<!-- 0&#45;&gt;2 -->\n",
       "<g id=\"edge2\" class=\"edge\"><title>0&#45;&gt;2</title>\n",
       "<path fill=\"none\" stroke=\"black\" d=\"M229.185,-669.769C235.492,-660.939 242.269,-651.451 248.793,-642.318\"/>\n",
       "<polygon fill=\"black\" stroke=\"black\" points=\"251.728,-644.23 254.693,-634.058 246.032,-640.161 251.728,-644.23\"/>\n",
       "<text text-anchor=\"middle\" x=\"258.803\" y=\"-654.518\" font-family=\"Helvetica,sans-Serif\" font-size=\"14.00\">False</text>\n",
       "</g>\n",
       "<!-- 3 -->\n",
       "<g id=\"node4\" class=\"node\"><title>3</title>\n",
       "<path fill=\"#39e581\" fill-opacity=\"0.976471\" stroke=\"black\" d=\"M260.396,-520C260.396,-520 127.359,-520 127.359,-520 121.359,-520 115.359,-514 115.359,-508 115.359,-508 115.359,-454 115.359,-454 115.359,-448 121.359,-442 127.359,-442 127.359,-442 260.396,-442 260.396,-442 266.396,-442 272.396,-448 272.396,-454 272.396,-454 272.396,-508 272.396,-508 272.396,-514 266.396,-520 260.396,-520\"/>\n",
       "<text text-anchor=\"start\" x=\"123.119\" y=\"-504.8\" font-family=\"Helvetica,sans-Serif\" font-size=\"14.00\">petal width (cm) ≤ 1.65</text>\n",
       "<text text-anchor=\"start\" x=\"145.035\" y=\"-490.8\" font-family=\"Helvetica,sans-Serif\" font-size=\"14.00\">entropy = 0.165</text>\n",
       "<text text-anchor=\"start\" x=\"152.048\" y=\"-476.8\" font-family=\"Helvetica,sans-Serif\" font-size=\"14.00\">samples = 41</text>\n",
       "<text text-anchor=\"start\" x=\"141.924\" y=\"-462.8\" font-family=\"Helvetica,sans-Serif\" font-size=\"14.00\">value = [0, 40, 1]</text>\n",
       "<text text-anchor=\"start\" x=\"140\" y=\"-448.8\" font-family=\"Helvetica,sans-Serif\" font-size=\"14.00\">class = versicolor</text>\n",
       "</g>\n",
       "<!-- 2&#45;&gt;3 -->\n",
       "<g id=\"edge3\" class=\"edge\"><title>2&#45;&gt;3</title>\n",
       "<path fill=\"none\" stroke=\"black\" d=\"M251.839,-555.769C244.83,-546.849 237.294,-537.257 230.05,-528.038\"/>\n",
       "<polygon fill=\"black\" stroke=\"black\" points=\"232.711,-525.759 223.781,-520.058 227.207,-530.084 232.711,-525.759\"/>\n",
       "</g>\n",
       "<!-- 6 -->\n",
       "<g id=\"node7\" class=\"node\"><title>6</title>\n",
       "<path fill=\"#8139e5\" fill-opacity=\"0.917647\" stroke=\"black\" d=\"M436.396,-520C436.396,-520 303.359,-520 303.359,-520 297.359,-520 291.359,-514 291.359,-508 291.359,-508 291.359,-454 291.359,-454 291.359,-448 297.359,-442 303.359,-442 303.359,-442 436.396,-442 436.396,-442 442.396,-442 448.396,-448 448.396,-454 448.396,-454 448.396,-508 448.396,-508 448.396,-514 442.396,-520 436.396,-520\"/>\n",
       "<text text-anchor=\"start\" x=\"299.119\" y=\"-504.8\" font-family=\"Helvetica,sans-Serif\" font-size=\"14.00\">petal width (cm) ≤ 1.75</text>\n",
       "<text text-anchor=\"start\" x=\"321.035\" y=\"-490.8\" font-family=\"Helvetica,sans-Serif\" font-size=\"14.00\">entropy = 0.384</text>\n",
       "<text text-anchor=\"start\" x=\"328.048\" y=\"-476.8\" font-family=\"Helvetica,sans-Serif\" font-size=\"14.00\">samples = 40</text>\n",
       "<text text-anchor=\"start\" x=\"317.924\" y=\"-462.8\" font-family=\"Helvetica,sans-Serif\" font-size=\"14.00\">value = [0, 3, 37]</text>\n",
       "<text text-anchor=\"start\" x=\"320.276\" y=\"-448.8\" font-family=\"Helvetica,sans-Serif\" font-size=\"14.00\">class = virginica</text>\n",
       "</g>\n",
       "<!-- 2&#45;&gt;6 -->\n",
       "<g id=\"edge6\" class=\"edge\"><title>2&#45;&gt;6</title>\n",
       "<path fill=\"none\" stroke=\"black\" d=\"M311.916,-555.769C318.925,-546.849 326.461,-537.257 333.705,-528.038\"/>\n",
       "<polygon fill=\"black\" stroke=\"black\" points=\"336.548,-530.084 339.974,-520.058 331.044,-525.759 336.548,-530.084\"/>\n",
       "</g>\n",
       "<!-- 4 -->\n",
       "<g id=\"node5\" class=\"node\"><title>4</title>\n",
       "<path fill=\"#39e581\" stroke=\"black\" d=\"M111.633,-399C111.633,-399 12.1223,-399 12.1223,-399 6.12232,-399 0.122316,-393 0.122316,-387 0.122316,-387 0.122316,-347 0.122316,-347 0.122316,-341 6.12232,-335 12.1223,-335 12.1223,-335 111.633,-335 111.633,-335 117.633,-335 123.633,-341 123.633,-347 123.633,-347 123.633,-387 123.633,-387 123.633,-393 117.633,-399 111.633,-399\"/>\n",
       "<text text-anchor=\"start\" x=\"20.8208\" y=\"-383.8\" font-family=\"Helvetica,sans-Serif\" font-size=\"14.00\">entropy = 0.0</text>\n",
       "<text text-anchor=\"start\" x=\"20.0483\" y=\"-369.8\" font-family=\"Helvetica,sans-Serif\" font-size=\"14.00\">samples = 40</text>\n",
       "<text text-anchor=\"start\" x=\"9.92432\" y=\"-355.8\" font-family=\"Helvetica,sans-Serif\" font-size=\"14.00\">value = [0, 40, 0]</text>\n",
       "<text text-anchor=\"start\" x=\"8\" y=\"-341.8\" font-family=\"Helvetica,sans-Serif\" font-size=\"14.00\">class = versicolor</text>\n",
       "</g>\n",
       "<!-- 3&#45;&gt;4 -->\n",
       "<g id=\"edge4\" class=\"edge\"><title>3&#45;&gt;4</title>\n",
       "<path fill=\"none\" stroke=\"black\" d=\"M148.82,-441.769C135.084,-430.115 119.999,-417.315 106.306,-405.697\"/>\n",
       "<polygon fill=\"black\" stroke=\"black\" points=\"108.315,-402.811 98.425,-399.01 103.786,-408.149 108.315,-402.811\"/>\n",
       "</g>\n",
       "<!-- 5 -->\n",
       "<g id=\"node6\" class=\"node\"><title>5</title>\n",
       "<path fill=\"#8139e5\" stroke=\"black\" d=\"M244.581,-399C244.581,-399 153.174,-399 153.174,-399 147.174,-399 141.174,-393 141.174,-387 141.174,-387 141.174,-347 141.174,-347 141.174,-341 147.174,-335 153.174,-335 153.174,-335 244.581,-335 244.581,-335 250.581,-335 256.581,-341 256.581,-347 256.581,-347 256.581,-387 256.581,-387 256.581,-393 250.581,-399 244.581,-399\"/>\n",
       "<text text-anchor=\"start\" x=\"157.821\" y=\"-383.8\" font-family=\"Helvetica,sans-Serif\" font-size=\"14.00\">entropy = 0.0</text>\n",
       "<text text-anchor=\"start\" x=\"160.941\" y=\"-369.8\" font-family=\"Helvetica,sans-Serif\" font-size=\"14.00\">samples = 1</text>\n",
       "<text text-anchor=\"start\" x=\"150.817\" y=\"-355.8\" font-family=\"Helvetica,sans-Serif\" font-size=\"14.00\">value = [0, 0, 1]</text>\n",
       "<text text-anchor=\"start\" x=\"149.276\" y=\"-341.8\" font-family=\"Helvetica,sans-Serif\" font-size=\"14.00\">class = virginica</text>\n",
       "</g>\n",
       "<!-- 3&#45;&gt;5 -->\n",
       "<g id=\"edge5\" class=\"edge\"><title>3&#45;&gt;5</title>\n",
       "<path fill=\"none\" stroke=\"black\" d=\"M195.584,-441.769C196.051,-431.313 196.559,-419.935 197.033,-409.315\"/>\n",
       "<polygon fill=\"black\" stroke=\"black\" points=\"200.544,-409.156 197.493,-399.01 193.55,-408.844 200.544,-409.156\"/>\n",
       "</g>\n",
       "<!-- 7 -->\n",
       "<g id=\"node8\" class=\"node\"><title>7</title>\n",
       "<path fill=\"#8139e5\" fill-opacity=\"0.250980\" stroke=\"black\" d=\"M434.357,-406C434.357,-406 295.398,-406 295.398,-406 289.398,-406 283.398,-400 283.398,-394 283.398,-394 283.398,-340 283.398,-340 283.398,-334 289.398,-328 295.398,-328 295.398,-328 434.357,-328 434.357,-328 440.357,-328 446.357,-334 446.357,-340 446.357,-340 446.357,-394 446.357,-394 446.357,-400 440.357,-406 434.357,-406\"/>\n",
       "<text text-anchor=\"start\" x=\"291.388\" y=\"-390.8\" font-family=\"Helvetica,sans-Serif\" font-size=\"14.00\">petal length (cm) ≤ 5.35</text>\n",
       "<text text-anchor=\"start\" x=\"316.035\" y=\"-376.8\" font-family=\"Helvetica,sans-Serif\" font-size=\"14.00\">entropy = 0.985</text>\n",
       "<text text-anchor=\"start\" x=\"326.941\" y=\"-362.8\" font-family=\"Helvetica,sans-Serif\" font-size=\"14.00\">samples = 7</text>\n",
       "<text text-anchor=\"start\" x=\"316.817\" y=\"-348.8\" font-family=\"Helvetica,sans-Serif\" font-size=\"14.00\">value = [0, 3, 4]</text>\n",
       "<text text-anchor=\"start\" x=\"315.276\" y=\"-334.8\" font-family=\"Helvetica,sans-Serif\" font-size=\"14.00\">class = virginica</text>\n",
       "</g>\n",
       "<!-- 6&#45;&gt;7 -->\n",
       "<g id=\"edge7\" class=\"edge\"><title>6&#45;&gt;7</title>\n",
       "<path fill=\"none\" stroke=\"black\" d=\"M368.171,-441.769C367.805,-433.57 367.413,-424.803 367.033,-416.28\"/>\n",
       "<polygon fill=\"black\" stroke=\"black\" points=\"370.519,-415.892 366.576,-406.058 363.526,-416.205 370.519,-415.892\"/>\n",
       "</g>\n",
       "<!-- 14 -->\n",
       "<g id=\"node15\" class=\"node\"><title>14</title>\n",
       "<path fill=\"#8139e5\" stroke=\"black\" d=\"M571.784,-399C571.784,-399 475.971,-399 475.971,-399 469.971,-399 463.971,-393 463.971,-387 463.971,-387 463.971,-347 463.971,-347 463.971,-341 469.971,-335 475.971,-335 475.971,-335 571.784,-335 571.784,-335 577.784,-335 583.784,-341 583.784,-347 583.784,-347 583.784,-387 583.784,-387 583.784,-393 577.784,-399 571.784,-399\"/>\n",
       "<text text-anchor=\"start\" x=\"482.821\" y=\"-383.8\" font-family=\"Helvetica,sans-Serif\" font-size=\"14.00\">entropy = 0.0</text>\n",
       "<text text-anchor=\"start\" x=\"482.048\" y=\"-369.8\" font-family=\"Helvetica,sans-Serif\" font-size=\"14.00\">samples = 33</text>\n",
       "<text text-anchor=\"start\" x=\"471.924\" y=\"-355.8\" font-family=\"Helvetica,sans-Serif\" font-size=\"14.00\">value = [0, 0, 33]</text>\n",
       "<text text-anchor=\"start\" x=\"474.276\" y=\"-341.8\" font-family=\"Helvetica,sans-Serif\" font-size=\"14.00\">class = virginica</text>\n",
       "</g>\n",
       "<!-- 6&#45;&gt;14 -->\n",
       "<g id=\"edge14\" class=\"edge\"><title>6&#45;&gt;14</title>\n",
       "<path fill=\"none\" stroke=\"black\" d=\"M422.445,-441.769C438.769,-429.897 456.727,-416.837 472.938,-405.047\"/>\n",
       "<polygon fill=\"black\" stroke=\"black\" points=\"475.21,-407.722 481.239,-399.01 471.093,-402.061 475.21,-407.722\"/>\n",
       "</g>\n",
       "<!-- 8 -->\n",
       "<g id=\"node9\" class=\"node\"><title>8</title>\n",
       "<path fill=\"#39e581\" fill-opacity=\"0.333333\" stroke=\"black\" d=\"M354.181,-292C354.181,-292 219.573,-292 219.573,-292 213.573,-292 207.573,-286 207.573,-280 207.573,-280 207.573,-226 207.573,-226 207.573,-220 213.573,-214 219.573,-214 219.573,-214 354.181,-214 354.181,-214 360.181,-214 366.181,-220 366.181,-226 366.181,-226 366.181,-280 366.181,-280 366.181,-286 360.181,-292 354.181,-292\"/>\n",
       "<text text-anchor=\"start\" x=\"215.726\" y=\"-276.8\" font-family=\"Helvetica,sans-Serif\" font-size=\"14.00\">sepal length (cm) ≤ 6.5</text>\n",
       "<text text-anchor=\"start\" x=\"238.035\" y=\"-262.8\" font-family=\"Helvetica,sans-Serif\" font-size=\"14.00\">entropy = 0.971</text>\n",
       "<text text-anchor=\"start\" x=\"248.941\" y=\"-248.8\" font-family=\"Helvetica,sans-Serif\" font-size=\"14.00\">samples = 5</text>\n",
       "<text text-anchor=\"start\" x=\"238.817\" y=\"-234.8\" font-family=\"Helvetica,sans-Serif\" font-size=\"14.00\">value = [0, 3, 2]</text>\n",
       "<text text-anchor=\"start\" x=\"233\" y=\"-220.8\" font-family=\"Helvetica,sans-Serif\" font-size=\"14.00\">class = versicolor</text>\n",
       "</g>\n",
       "<!-- 7&#45;&gt;8 -->\n",
       "<g id=\"edge8\" class=\"edge\"><title>7&#45;&gt;8</title>\n",
       "<path fill=\"none\" stroke=\"black\" d=\"M338.252,-327.769C332.103,-318.939 325.495,-309.451 319.134,-300.318\"/>\n",
       "<polygon fill=\"black\" stroke=\"black\" points=\"321.97,-298.264 313.382,-292.058 316.225,-302.265 321.97,-298.264\"/>\n",
       "</g>\n",
       "<!-- 13 -->\n",
       "<g id=\"node14\" class=\"node\"><title>13</title>\n",
       "<path fill=\"#8139e5\" stroke=\"black\" d=\"M487.581,-285C487.581,-285 396.174,-285 396.174,-285 390.174,-285 384.174,-279 384.174,-273 384.174,-273 384.174,-233 384.174,-233 384.174,-227 390.174,-221 396.174,-221 396.174,-221 487.581,-221 487.581,-221 493.581,-221 499.581,-227 499.581,-233 499.581,-233 499.581,-273 499.581,-273 499.581,-279 493.581,-285 487.581,-285\"/>\n",
       "<text text-anchor=\"start\" x=\"400.821\" y=\"-269.8\" font-family=\"Helvetica,sans-Serif\" font-size=\"14.00\">entropy = 0.0</text>\n",
       "<text text-anchor=\"start\" x=\"403.941\" y=\"-255.8\" font-family=\"Helvetica,sans-Serif\" font-size=\"14.00\">samples = 2</text>\n",
       "<text text-anchor=\"start\" x=\"393.817\" y=\"-241.8\" font-family=\"Helvetica,sans-Serif\" font-size=\"14.00\">value = [0, 0, 2]</text>\n",
       "<text text-anchor=\"start\" x=\"392.276\" y=\"-227.8\" font-family=\"Helvetica,sans-Serif\" font-size=\"14.00\">class = virginica</text>\n",
       "</g>\n",
       "<!-- 7&#45;&gt;13 -->\n",
       "<g id=\"edge13\" class=\"edge\"><title>7&#45;&gt;13</title>\n",
       "<path fill=\"none\" stroke=\"black\" d=\"M391.161,-327.769C398.799,-316.66 407.152,-304.509 414.836,-293.333\"/>\n",
       "<polygon fill=\"black\" stroke=\"black\" points=\"417.777,-295.233 420.558,-285.01 412.009,-291.268 417.777,-295.233\"/>\n",
       "</g>\n",
       "<!-- 9 -->\n",
       "<g id=\"node10\" class=\"node\"><title>9</title>\n",
       "<path fill=\"#8139e5\" fill-opacity=\"0.498039\" stroke=\"black\" d=\"M274.396,-178C274.396,-178 141.359,-178 141.359,-178 135.359,-178 129.359,-172 129.359,-166 129.359,-166 129.359,-112 129.359,-112 129.359,-106 135.359,-100 141.359,-100 141.359,-100 274.396,-100 274.396,-100 280.396,-100 286.396,-106 286.396,-112 286.396,-112 286.396,-166 286.396,-166 286.396,-172 280.396,-178 274.396,-178\"/>\n",
       "<text text-anchor=\"start\" x=\"137.119\" y=\"-162.8\" font-family=\"Helvetica,sans-Serif\" font-size=\"14.00\">petal width (cm) ≤ 1.55</text>\n",
       "<text text-anchor=\"start\" x=\"159.035\" y=\"-148.8\" font-family=\"Helvetica,sans-Serif\" font-size=\"14.00\">entropy = 0.918</text>\n",
       "<text text-anchor=\"start\" x=\"169.941\" y=\"-134.8\" font-family=\"Helvetica,sans-Serif\" font-size=\"14.00\">samples = 3</text>\n",
       "<text text-anchor=\"start\" x=\"159.817\" y=\"-120.8\" font-family=\"Helvetica,sans-Serif\" font-size=\"14.00\">value = [0, 1, 2]</text>\n",
       "<text text-anchor=\"start\" x=\"158.276\" y=\"-106.8\" font-family=\"Helvetica,sans-Serif\" font-size=\"14.00\">class = virginica</text>\n",
       "</g>\n",
       "<!-- 8&#45;&gt;9 -->\n",
       "<g id=\"edge9\" class=\"edge\"><title>8&#45;&gt;9</title>\n",
       "<path fill=\"none\" stroke=\"black\" d=\"M259.911,-213.769C253.683,-204.939 246.99,-195.451 240.548,-186.318\"/>\n",
       "<polygon fill=\"black\" stroke=\"black\" points=\"243.346,-184.213 234.722,-178.058 237.626,-188.248 243.346,-184.213\"/>\n",
       "</g>\n",
       "<!-- 12 -->\n",
       "<g id=\"node13\" class=\"node\"><title>12</title>\n",
       "<path fill=\"#39e581\" stroke=\"black\" d=\"M416.633,-171C416.633,-171 317.122,-171 317.122,-171 311.122,-171 305.122,-165 305.122,-159 305.122,-159 305.122,-119 305.122,-119 305.122,-113 311.122,-107 317.122,-107 317.122,-107 416.633,-107 416.633,-107 422.633,-107 428.633,-113 428.633,-119 428.633,-119 428.633,-159 428.633,-159 428.633,-165 422.633,-171 416.633,-171\"/>\n",
       "<text text-anchor=\"start\" x=\"325.821\" y=\"-155.8\" font-family=\"Helvetica,sans-Serif\" font-size=\"14.00\">entropy = 0.0</text>\n",
       "<text text-anchor=\"start\" x=\"328.941\" y=\"-141.8\" font-family=\"Helvetica,sans-Serif\" font-size=\"14.00\">samples = 2</text>\n",
       "<text text-anchor=\"start\" x=\"318.817\" y=\"-127.8\" font-family=\"Helvetica,sans-Serif\" font-size=\"14.00\">value = [0, 2, 0]</text>\n",
       "<text text-anchor=\"start\" x=\"313\" y=\"-113.8\" font-family=\"Helvetica,sans-Serif\" font-size=\"14.00\">class = versicolor</text>\n",
       "</g>\n",
       "<!-- 8&#45;&gt;12 -->\n",
       "<g id=\"edge12\" class=\"edge\"><title>8&#45;&gt;12</title>\n",
       "<path fill=\"none\" stroke=\"black\" d=\"M314.185,-213.769C322.121,-202.66 330.799,-190.509 338.782,-179.333\"/>\n",
       "<polygon fill=\"black\" stroke=\"black\" points=\"341.763,-181.182 344.727,-171.01 336.067,-177.113 341.763,-181.182\"/>\n",
       "</g>\n",
       "<!-- 10 -->\n",
       "<g id=\"node11\" class=\"node\"><title>10</title>\n",
       "<path fill=\"#8139e5\" stroke=\"black\" d=\"M185.581,-64C185.581,-64 94.1741,-64 94.1741,-64 88.1741,-64 82.1741,-58 82.1741,-52 82.1741,-52 82.1741,-12 82.1741,-12 82.1741,-6 88.1741,-0 94.1741,-0 94.1741,-0 185.581,-0 185.581,-0 191.581,-0 197.581,-6 197.581,-12 197.581,-12 197.581,-52 197.581,-52 197.581,-58 191.581,-64 185.581,-64\"/>\n",
       "<text text-anchor=\"start\" x=\"98.8208\" y=\"-48.8\" font-family=\"Helvetica,sans-Serif\" font-size=\"14.00\">entropy = 0.0</text>\n",
       "<text text-anchor=\"start\" x=\"101.941\" y=\"-34.8\" font-family=\"Helvetica,sans-Serif\" font-size=\"14.00\">samples = 2</text>\n",
       "<text text-anchor=\"start\" x=\"91.8174\" y=\"-20.8\" font-family=\"Helvetica,sans-Serif\" font-size=\"14.00\">value = [0, 0, 2]</text>\n",
       "<text text-anchor=\"start\" x=\"90.2759\" y=\"-6.8\" font-family=\"Helvetica,sans-Serif\" font-size=\"14.00\">class = virginica</text>\n",
       "</g>\n",
       "<!-- 9&#45;&gt;10 -->\n",
       "<g id=\"edge10\" class=\"edge\"><title>9&#45;&gt;10</title>\n",
       "<path fill=\"none\" stroke=\"black\" d=\"M183.136,-99.7956C177.439,-91 171.368,-81.625 165.63,-72.765\"/>\n",
       "<polygon fill=\"black\" stroke=\"black\" points=\"168.403,-70.6082 160.03,-64.1172 162.528,-74.4133 168.403,-70.6082\"/>\n",
       "</g>\n",
       "<!-- 11 -->\n",
       "<g id=\"node12\" class=\"node\"><title>11</title>\n",
       "<path fill=\"#39e581\" stroke=\"black\" d=\"M326.633,-64C326.633,-64 227.122,-64 227.122,-64 221.122,-64 215.122,-58 215.122,-52 215.122,-52 215.122,-12 215.122,-12 215.122,-6 221.122,-0 227.122,-0 227.122,-0 326.633,-0 326.633,-0 332.633,-0 338.633,-6 338.633,-12 338.633,-12 338.633,-52 338.633,-52 338.633,-58 332.633,-64 326.633,-64\"/>\n",
       "<text text-anchor=\"start\" x=\"235.821\" y=\"-48.8\" font-family=\"Helvetica,sans-Serif\" font-size=\"14.00\">entropy = 0.0</text>\n",
       "<text text-anchor=\"start\" x=\"238.941\" y=\"-34.8\" font-family=\"Helvetica,sans-Serif\" font-size=\"14.00\">samples = 1</text>\n",
       "<text text-anchor=\"start\" x=\"228.817\" y=\"-20.8\" font-family=\"Helvetica,sans-Serif\" font-size=\"14.00\">value = [0, 1, 0]</text>\n",
       "<text text-anchor=\"start\" x=\"223\" y=\"-6.8\" font-family=\"Helvetica,sans-Serif\" font-size=\"14.00\">class = versicolor</text>\n",
       "</g>\n",
       "<!-- 9&#45;&gt;11 -->\n",
       "<g id=\"edge11\" class=\"edge\"><title>9&#45;&gt;11</title>\n",
       "<path fill=\"none\" stroke=\"black\" d=\"M232.983,-99.7956C238.823,-90.9084 245.052,-81.4296 250.928,-72.4883\"/>\n",
       "<polygon fill=\"black\" stroke=\"black\" points=\"253.862,-74.3964 256.429,-64.1172 248.012,-70.5521 253.862,-74.3964\"/>\n",
       "</g>\n",
       "</g>\n",
       "</svg>\n"
      ],
      "text/plain": [
       "<graphviz.files.Source at 0x1510d3df28>"
      ]
     },
     "execution_count": 14,
     "metadata": {},
     "output_type": "execute_result"
    }
   ],
   "source": [
    "dot_data = tree.export_graphviz(best_tree, out_file=None, \n",
    "                         feature_names=iris.feature_names,  \n",
    "                         class_names=iris.target_names,  \n",
    "                         filled=True, rounded=True,  \n",
    "                         special_characters=True)\n",
    "graph = graphviz.Source(dot_data) \n",
    "graph"
   ]
  },
  {
   "cell_type": "markdown",
   "metadata": {},
   "source": [
    "You should see that the difference between the validation and training accuracies is not as large as before."
   ]
  },
  {
   "cell_type": "code",
   "execution_count": 15,
   "metadata": {},
   "outputs": [
    {
     "data": {
      "text/plain": [
       "1.0"
      ]
     },
     "execution_count": 15,
     "metadata": {},
     "output_type": "execute_result"
    }
   ],
   "source": [
    "best_tree.score(train_features, train_labels)"
   ]
  },
  {
   "cell_type": "code",
   "execution_count": 16,
   "metadata": {},
   "outputs": [
    {
     "data": {
      "text/plain": [
       "0.9375"
      ]
     },
     "execution_count": 16,
     "metadata": {},
     "output_type": "execute_result"
    }
   ],
   "source": [
    "best_tree.score(test_features, test_labels)"
   ]
  },
  {
   "cell_type": "markdown",
   "metadata": {},
   "source": [
    "Now train a Random Forest Classifier on the same dataset. "
   ]
  },
  {
   "cell_type": "code",
   "execution_count": 17,
   "metadata": {},
   "outputs": [
    {
     "data": {
      "text/plain": [
       "RandomForestClassifier(bootstrap=True, class_weight=None, criterion='entropy',\n",
       "            max_depth=None, max_features='auto', max_leaf_nodes=None,\n",
       "            min_impurity_decrease=0.0, min_impurity_split=None,\n",
       "            min_samples_leaf=1, min_samples_split=2,\n",
       "            min_weight_fraction_leaf=0.0, n_estimators=100, n_jobs=1,\n",
       "            oob_score=False, random_state=None, verbose=0,\n",
       "            warm_start=False)"
      ]
     },
     "execution_count": 17,
     "metadata": {},
     "output_type": "execute_result"
    }
   ],
   "source": [
    "clf = RandomForestClassifier(criterion = 'entropy', n_estimators=100)\n",
    "clf.fit(train_features, train_labels)"
   ]
  },
  {
   "cell_type": "code",
   "execution_count": 18,
   "metadata": {},
   "outputs": [
    {
     "data": {
      "text/plain": [
       "1.0"
      ]
     },
     "execution_count": 18,
     "metadata": {},
     "output_type": "execute_result"
    }
   ],
   "source": [
    "clf.score(train_features, train_labels)"
   ]
  },
  {
   "cell_type": "code",
   "execution_count": 19,
   "metadata": {},
   "outputs": [
    {
     "data": {
      "text/plain": [
       "0.9375"
      ]
     },
     "execution_count": 19,
     "metadata": {},
     "output_type": "execute_result"
    }
   ],
   "source": [
    "clf.score(test_features, test_labels)"
   ]
  },
  {
   "cell_type": "markdown",
   "metadata": {},
   "source": [
    "Train an AdaBoost Classifier on the same dataset. "
   ]
  },
  {
   "cell_type": "code",
   "execution_count": 20,
   "metadata": {
    "collapsed": true
   },
   "outputs": [],
   "source": [
    "default_tree = tree.DecisionTreeClassifier(max_depth=2, min_samples_leaf=3, criterion = 'entropy')"
   ]
  },
  {
   "cell_type": "code",
   "execution_count": 21,
   "metadata": {
    "collapsed": true
   },
   "outputs": [],
   "source": [
    "boost_clf = AdaBoostClassifier(base_estimator = default_tree)"
   ]
  },
  {
   "cell_type": "code",
   "execution_count": 22,
   "metadata": {},
   "outputs": [
    {
     "data": {
      "text/plain": [
       "AdaBoostClassifier(algorithm='SAMME.R',\n",
       "          base_estimator=DecisionTreeClassifier(class_weight=None, criterion='entropy', max_depth=2,\n",
       "            max_features=None, max_leaf_nodes=None,\n",
       "            min_impurity_decrease=0.0, min_impurity_split=None,\n",
       "            min_samples_leaf=3, min_samples_split=2,\n",
       "            min_weight_fraction_leaf=0.0, presort=False, random_state=None,\n",
       "            splitter='best'),\n",
       "          learning_rate=1.0, n_estimators=50, random_state=None)"
      ]
     },
     "execution_count": 22,
     "metadata": {},
     "output_type": "execute_result"
    }
   ],
   "source": [
    "boost_clf.fit(train_features, train_labels)"
   ]
  },
  {
   "cell_type": "code",
   "execution_count": 23,
   "metadata": {},
   "outputs": [
    {
     "data": {
      "text/plain": [
       "1.0"
      ]
     },
     "execution_count": 23,
     "metadata": {},
     "output_type": "execute_result"
    }
   ],
   "source": [
    "boost_clf.score(train_features, train_labels)"
   ]
  },
  {
   "cell_type": "code",
   "execution_count": 1,
   "metadata": {},
   "outputs": [
    {
     "ename": "NameError",
     "evalue": "name 'boost_clf' is not defined",
     "output_type": "error",
     "traceback": [
      "\u001b[0;31m---------------------------------------------------------------------------\u001b[0m",
      "\u001b[0;31mNameError\u001b[0m                                 Traceback (most recent call last)",
      "\u001b[0;32m<ipython-input-1-f43af08307f8>\u001b[0m in \u001b[0;36m<module>\u001b[0;34m()\u001b[0m\n\u001b[0;32m----> 1\u001b[0;31m \u001b[0mboost_clf\u001b[0m\u001b[0;34m.\u001b[0m\u001b[0mscore\u001b[0m\u001b[0;34m(\u001b[0m\u001b[0mtest_features\u001b[0m\u001b[0;34m,\u001b[0m \u001b[0mtest_labels\u001b[0m\u001b[0;34m)\u001b[0m\u001b[0;34m\u001b[0m\u001b[0m\n\u001b[0m",
      "\u001b[0;31mNameError\u001b[0m: name 'boost_clf' is not defined"
     ]
    }
   ],
   "source": [
    "boost_clf.score(test_features, test_labels)"
   ]
  },
  {
   "cell_type": "markdown",
   "metadata": {},
   "source": [
    "## Questions: \n",
    "\n",
    "1) In your own words, explain what a decision tree is.\n",
    "    \n",
    "    Answer here.\n",
    "    \n",
    "2) What does it mean to regularize a decision tree?\n",
    "\n",
    "    Answer here.\n",
    "    \n",
    "3) What are some ways you can regularize a decision tree?\n",
    "    \n",
    "    Answer here.\n",
    "\n",
    "4) Why do decision trees get higher training accuracy than testing accuracy?\n",
    "\n",
    "    Decision trees have the capability to fit each training point accurately,\n",
    "    so if left unregulated the tree will probably end up overfitting to the training set.\n",
    "\n",
    "5) Why are the testing and training accuracy not so different from each other when we find the best decision tree (`best_tree`)?\n",
    "\n",
    "    Answer here.\n",
    "\n",
    "\n",
    "6) In your own words, explain how a random forest works and how regularization works in random forests.\n",
    "\n",
    "    Random forests train multiple strong learners on the same dataset, \n",
    "    so we don't have to worry as much about regularizing each individual decision\n",
    "    tree as long as there are multiple learners.\n",
    "\n",
    "\n",
    "7) Explain in your own words and in detail what GridSearchCV does.\n",
    "    \n",
    "    Answer here.\n",
    "\n",
    "\n",
    "8) What does boosting do and why is it useful? Connect this back to what we did with the iris dataset. \n",
    "\n",
    "    Boosting trains weak learners sequentially so they focus on the points \n",
    "    that are hard to classify, so make sure to limit each individual tree \n",
    "    so it is individually weak.\n"
   ]
  },
  {
   "cell_type": "code",
   "execution_count": null,
   "metadata": {},
   "outputs": [],
   "source": []
  }
 ],
 "metadata": {
  "kernelspec": {
   "display_name": "Python 3",
   "language": "python",
   "name": "python3"
  },
  "language_info": {
   "codemirror_mode": {
    "name": "ipython",
    "version": 3
   },
   "file_extension": ".py",
   "mimetype": "text/x-python",
   "name": "python",
   "nbconvert_exporter": "python",
   "pygments_lexer": "ipython3",
   "version": "3.6.3"
  }
 },
 "nbformat": 4,
 "nbformat_minor": 2
}
